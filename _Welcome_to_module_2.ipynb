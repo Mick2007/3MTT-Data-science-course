{
  "cells": [
    {
      "cell_type": "markdown",
      "metadata": {
        "id": "view-in-github",
        "colab_type": "text"
      },
      "source": [
        "<a href=\"https://colab.research.google.com/github/Mick2007/3MTT-Data-science-course/blob/main/_Welcome_to_module_2.ipynb\" target=\"_parent\"><img src=\"https://colab.research.google.com/assets/colab-badge.svg\" alt=\"Open In Colab\"/></a>"
      ]
    },
    {
      "cell_type": "markdown",
      "id": "841dc446",
      "metadata": {
        "id": "841dc446"
      },
      "source": [
        "## 🖥️ Module 2\n",
        "\n",
        "In the last module you gained foundational knowledge and experience on some of the building blocks for python programming in data science. We discussed:\n",
        "\n",
        "- Variables\n",
        "- Data types and data structures\n",
        "- Operators\n",
        "- Control flow statements\n",
        "- Functions and modules\n",
        "- Exception and file handling\n",
        "- Regular expressions\n",
        "- Web API and databases\n",
        "- Object Oriented Programming\n",
        "\n",
        "\n",
        "#### ❓ Any questions based on what we've discussed so far?\n",
        "\n",
        "\n",
        "### Welcome to module 2 🤗\n",
        "\n",
        "In this module you will be trained to:\n",
        "\n",
        "- Develop fundamental and hands-on experience in data manipulation using Numpy for numerical operations and Pandas for structured data.\n",
        "- Perform data cleaning and preprocessing tasks to prepare data for analysis and modeling.\n",
        "- Build data visualization skills enabling effective visual communication of insights.\n",
        "- Apply data visualization libraries such as Matplotlib and Seaborn to create informative, aesthetic visualizations, enhancing data interpretation and storytelling."
      ]
    }
  ],
  "metadata": {
    "kernelspec": {
      "display_name": "Python 3 (ipykernel)",
      "language": "python",
      "name": "python3"
    },
    "language_info": {
      "codemirror_mode": {
        "name": "ipython",
        "version": 3
      },
      "file_extension": ".py",
      "mimetype": "text/x-python",
      "name": "python",
      "nbconvert_exporter": "python",
      "pygments_lexer": "ipython3",
      "version": "3.12.7"
    },
    "colab": {
      "provenance": [],
      "include_colab_link": true
    }
  },
  "nbformat": 4,
  "nbformat_minor": 5
}