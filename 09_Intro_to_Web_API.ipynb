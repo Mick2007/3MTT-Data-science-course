{
  "cells": [
    {
      "cell_type": "markdown",
      "metadata": {
        "id": "view-in-github",
        "colab_type": "text"
      },
      "source": [
        "<a href=\"https://colab.research.google.com/github/Mick2007/3MTT-Data-science-course/blob/main/09_Intro_to_Web_API.ipynb\" target=\"_parent\"><img src=\"https://colab.research.google.com/assets/colab-badge.svg\" alt=\"Open In Colab\"/></a>"
      ]
    },
    {
      "cell_type": "markdown",
      "id": "fce5c80c",
      "metadata": {
        "id": "fce5c80c"
      },
      "source": [
        "# J. Application Programming Interface (API)\n",
        "\n",
        "An API simply connects apps together. There is usually a documentation available for any API documentation you are to use. It is important that you give them a read.\n",
        "\n",
        "API's are also used to retrieve data from remote websites. To use an API, you make a request to a remote web server and retrieve the data you need. We use API in cases where the data quickly changes, e.g stock market data or in cases where we want a small pece of a much larger dataset, e,g twitter.\n",
        "\n",
        "\n",
        "**Some communication protocols**\n",
        "- FTP - File Transfer Protocol\n",
        "- SFTP - Secure File Transfer Protocol\n",
        "- SMTP - Simple Mail Transfer Protocol\n",
        "- HTTP - Hyper Text Transfer Protocol\n",
        "- HTTPS - Secure HTTP\n",
        "\n",
        "**HTTP request modes** include: POST(create), GET(read/retrieve), PUT(update) and DELETE(delete).\n",
        "\n",
        "\n",
        "**API Endpoint**: is a digital location where an API receives requests about a specific resource on its server.\n",
        "\n",
        "\n",
        "**Making an API request**\n",
        "\n",
        "- To get data, we make a HTTP request to a webserver\n",
        "- The server then replies with our data. The requests module in python is used to do this\n",
        "- There are many different we can make as well. GET request is the most common, used to retrieve data.\n",
        "\n",
        "\n",
        "The image below provides a breakdown of the components of a URL\n",
        "\n",
        "![URL_anatomy](https://drive.google.com/uc?export=view&id=1DoM5rPVH6JTv5i2gxzjMg8MsdduLPZjU)"
      ]
    },
    {
      "cell_type": "code",
      "execution_count": 13,
      "id": "f32dc17d",
      "metadata": {
        "id": "f32dc17d"
      },
      "outputs": [],
      "source": [
        "#How to send a request to open Google home page in python\n",
        "\n",
        "import requests\n",
        "URL = 'https://google.com'\n",
        "response = requests.get(URL)\n",
        "\n",
        "\n",
        "#Alternatively, to send a request to open Google home page,\n",
        "#you simply open your browser, type google.com in the url secton and hit enter"
      ]
    },
    {
      "cell_type": "markdown",
      "id": "9f36cc6d",
      "metadata": {
        "id": "9f36cc6d"
      },
      "source": [
        "## Request and Response from Google Web server"
      ]
    },
    {
      "cell_type": "code",
      "execution_count": 2,
      "id": "6c498b6a",
      "metadata": {
        "id": "6c498b6a"
      },
      "outputs": [],
      "source": [
        "#import library\n",
        "import requests"
      ]
    },
    {
      "cell_type": "code",
      "execution_count": 3,
      "id": "b6c2ac9c",
      "metadata": {
        "id": "b6c2ac9c"
      },
      "outputs": [],
      "source": [
        "#make a get request to fetch search results on 'hannah igboke'\n",
        "\n",
        "response = requests.get('https://google.com/search?q=hannah+igboke')"
      ]
    },
    {
      "cell_type": "code",
      "execution_count": 4,
      "id": "8de318ca",
      "metadata": {
        "id": "8de318ca",
        "outputId": "af343615-c384-42d8-e529-fe5d56fdf1d2",
        "colab": {
          "base_uri": "https://localhost:8080/"
        }
      },
      "outputs": [
        {
          "output_type": "stream",
          "name": "stdout",
          "text": [
            "{'Content-Type': 'text/html; charset=ISO-8859-1', 'Content-Security-Policy': \"object-src 'none';base-uri 'self';script-src 'nonce-5Uc3PM8PqCviIfred9XsOA' 'strict-dynamic' 'report-sample' 'unsafe-eval' 'unsafe-inline' https: http:;report-uri https://csp.withgoogle.com/csp/gws/xsrp\", 'Accept-CH': 'Sec-CH-Prefers-Color-Scheme', 'P3P': 'CP=\"This is not a P3P policy! See g.co/p3phelp for more info.\"', 'Content-Encoding': 'gzip', 'Date': 'Tue, 24 Jun 2025 13:37:06 GMT', 'Server': 'gws', 'X-XSS-Protection': '0', 'X-Frame-Options': 'SAMEORIGIN', 'Expires': 'Tue, 24 Jun 2025 13:37:06 GMT', 'Cache-Control': 'private', 'Set-Cookie': 'AEC=AVh_V2g4Kdv_jMmbFnevir3OGcaPQ6jr33EFWZpm2zINHDRrOAQSPC4KzgE; expires=Sun, 21-Dec-2025 13:37:06 GMT; path=/; domain=.google.com; Secure; HttpOnly; SameSite=lax, NID=524=jDrAxsbDOPKg46vJfG0TK6r8WFUUqojMH1ipuRxwjLs-PBtba5yWAJTENgZDcyrf3yvOiL-8FkD7KrqugZLQgJeZe5GIVXXwl_XvH3sCz_iRytMWMITZNo88eclbgZRtkNU_CIa4hIiwFSTBmvukoFXV1x_cBxEovtHrcgqczF9Sgf6jtme4qgQSMzY8MwPUazIjsdr50DO4RQT4rK8; expires=Wed, 24-Dec-2025 13:37:06 GMT; path=/; domain=.google.com; HttpOnly', 'Transfer-Encoding': 'chunked'}\n"
          ]
        }
      ],
      "source": [
        "#printing response headers\n",
        "\n",
        "print(response.headers)"
      ]
    },
    {
      "cell_type": "code",
      "execution_count": 5,
      "id": "3a8b0369",
      "metadata": {
        "id": "3a8b0369",
        "outputId": "79118367-86a6-458f-a340-2273e849cde9",
        "colab": {
          "base_uri": "https://localhost:8080/"
        }
      },
      "outputs": [
        {
          "output_type": "stream",
          "name": "stdout",
          "text": [
            "https://www.google.com/search?q=hannah+igboke\n"
          ]
        }
      ],
      "source": [
        "#checking the response url\n",
        "\n",
        "print(response.url)"
      ]
    },
    {
      "cell_type": "code",
      "execution_count": 6,
      "id": "f912f7ca",
      "metadata": {
        "id": "f912f7ca",
        "outputId": "5e81a257-6ad5-4bc0-cf70-6c809f338728",
        "colab": {
          "base_uri": "https://localhost:8080/"
        }
      },
      "outputs": [
        {
          "output_type": "stream",
          "name": "stdout",
          "text": [
            "200\n"
          ]
        }
      ],
      "source": [
        "#check the status code of the response\n",
        "\n",
        "print(response.status_code)\n",
        "\n",
        "#200 means it was successful"
      ]
    },
    {
      "cell_type": "code",
      "execution_count": 7,
      "id": "3ff0a8f0",
      "metadata": {
        "id": "3ff0a8f0",
        "outputId": "fde2ad27-4a9d-4d07-fe46-f100905f080c",
        "colab": {
          "base_uri": "https://localhost:8080/"
        }
      },
      "outputs": [
        {
          "output_type": "stream",
          "name": "stdout",
          "text": [
            "ISO-8859-1\n"
          ]
        }
      ],
      "source": [
        "#checking response encoding\n",
        "\n",
        "print(response.encoding)"
      ]
    },
    {
      "cell_type": "code",
      "execution_count": 8,
      "id": "1f80f4a9",
      "metadata": {
        "id": "1f80f4a9",
        "outputId": "d8a7bdd0-c15d-483a-961e-d138bca85e24",
        "colab": {
          "base_uri": "https://localhost:8080/"
        }
      },
      "outputs": [
        {
          "output_type": "stream",
          "name": "stdout",
          "text": [
            "text/html; charset=ISO-8859-1\n",
            "private\n"
          ]
        }
      ],
      "source": [
        "#retrieving header properties the response content type\n",
        "\n",
        "print(response.headers['Content-Type'])\n",
        "print(response.headers['Cache-Control'])"
      ]
    },
    {
      "cell_type": "code",
      "execution_count": 14,
      "id": "db3148be",
      "metadata": {
        "id": "db3148be",
        "outputId": "dab7f90f-1c8a-4908-9ccd-6d560f6ec046",
        "colab": {
          "base_uri": "https://localhost:8080/"
        }
      },
      "outputs": [
        {
          "output_type": "stream",
          "name": "stdout",
          "text": [
            "<!doctype html><html itemscope=\"\" itemtype=\"http://schema.org/WebPage\" lang=\"en\"><head><meta content\n",
            "<!doctype html><html itemscope=\"\" itemtype=\"http://schema.org/WebPage\" lang=\"en\"><head><meta content=\"Search the world's information, including webpages, images, videos and more. Google has many special features to help you find exactly what you're looking for.\" name=\"description\"><meta content=\"noodp, \" name=\"robots\"><meta content=\"text/html; charset=UTF-8\" http-equiv=\"Content-Type\"><meta content=\"/images/branding/googleg/1x/googleg_standard_color_128dp.png\" itemprop=\"image\"><title>Google</title><script nonce=\"9gf6Gb4C_lBDWn4az6uW8g\">(function(){var _g={kEI:'sapaaKvPC7nNkPIP-ZKf8Qs',kEXPI:'0,202792,62,2,610014,1284,2886154,131,945,538661,14112,34679,30022,255377,105524,94242,153078,23156,19568,15664,5226018,364,36812278,25228681,113800,10188,14280,14115,62507,2661,3433,3319,23879,9138,4600,328,6225,2949,34872,12755,3614,9975,15048,8211,3286,4134,30380,28333,48280,625,5307,353,14656,4224,5870,3097,4610,7,5774,16302,11309,4719,11805,2801,460,2990,28,7,1,1293,2126,2863,1,726,5244,4649,2361,1803,7944,656,5027,3604,11409,1738,3,517,4098,7,1,1514,1215,6432,120,7249,2100,650,1900,2,1,1595,724,1,4,1507,540,1507,1257,375,560,3,985,485,3874,1738,967,899,4,2342,622,1,756,1841,1,372,497,2,78,816,400,308,241,674,537,4,636,23,471,3,4,479,764,127,600,1033,1220,359,3285,1,1571,1214,362,1564,836,1412,99,506,422,941,932,763,692,2646,98,5,4,1,266,4146,1011,235,14,418,27,3,1326,540,444,7,35,120,532,2,2352,261,1,3,1388,93,1852,773,472,1446,3,2,2,2,742,589,355,1,127,164,541,90,710,1013,1,1,1,1306,467,144,4,106,347,281,287,1,556,2,1,622,1,41,481,370,573,935,290,97,107,712,587,115,659,2387,578,865,681,2033,37,372,1151,57,72,301,289,1,2,463,154,127,372,264,654,98,154,448,550,24,24,24,271,959,244,238,338,144,67,534,3,659,1137,103,175,539,606,5,5,363,233,337,170,666,75,14,25,105,840,3,5,2,381,139,218,132,44,220,171,156,225,54,3,209,1,492,8,165,57,229,559,3,6,298,144,280,5,567,1,456,2,14,204,371,1316,507,1,5,6,409,471,314,220,1785,479,3,9,1,250,50,2397,1597,21234887,1717,7635,5,2992,4,2960,3,1272,36,167,1175,1683,15,718,3425,2,1462,11,263,77,749,2168,72,63,1121,10,197,649,227,587,329,6019767,2473308,474940,1389174',kBL:'zjNy',kOPI:89978449};(function(){var a;((a=window.google)==null?0:a.stvsc)?google.kEI=_g.kEI:window.google=_g;}).call(this);})();(function(){google.sn='webhp';google.kHL='en';})();(function(){\n",
            "var g=this||self;function k(){return window.google&&window.google.kOPI||null};var l,m=[];function n(a){for(var b;a&&(!a.getAttribute||!(b=a.getAttribute(\"eid\")));)a=a.parentNode;return b||l}function p(a){for(var b=null;a&&(!a.getAttribute||!(b=a.getAttribute(\"leid\")));)a=a.parentNode;return b}function q(a){/^http:/i.test(a)&&window.location.protocol===\"https:\"&&(google.ml&&google.ml(Error(\"a\"),!1,{src:a,glmm:1}),a=\"\");return a}\n",
            "function r(a,b,d,c,h){var e=\"\";b.search(\"&ei=\")===-1&&(e=\"&ei=\"+n(c),b.search(\"&lei=\")===-1&&(c=p(c))&&(e+=\"&lei=\"+c));var f=b.search(\"&cshid=\")===-1&&a!==\"slh\";c=\"&zx=\"+Date.now().toString();g._cshid&&f&&(c+=\"&cshid=\"+g._cshid);(d=d())&&(c+=\"&opi=\"+d);return\"/\"+(h||\"gen_204\")+\"?atyp=i&ct=\"+String(a)+\"&cad=\"+(b+e+c)};l=google.kEI;google.getEI=n;google.getLEI=p;google.ml=function(){return null};google.log=function(a,b,d,c,h,e){e=e===void 0?k:e;d||(d=r(a,b,e,c,h));if(d=q(d)){a=new Image;var f=m.length;m[f]=a;a.onerror=a.onload=a.onabort=function(){delete m[f]};a.src=d}};google.logUrl=function(a,b){b=b===void 0?k:b;return r(\"\",a,b)};}).call(this);(function(){google.y={};google.sy=[];var d;(d=google).x||(d.x=function(a,b){if(a)var c=a.id;else{do c=Math.random();while(google.y[c])}google.y[c]=[a,b];return!1});var e;(e=google).sx||(e.sx=function(a){google.sy.push(a)});google.lm=[];var f;(f=google).plm||(f.plm=function(a){google.lm.push.apply(google.lm,a)});google.lq=[];var g;(g=google).load||(g.load=function(a,b,c){google.lq.push([[a],b,c])});var h;(h=google).loadAll||(h.loadAll=function(a,b){google.lq.push([a,b])});google.bx=!1;var k;(k=google).lx||(k.lx=function(){});var l=[],m;(m=google).fce||(m.fce=function(a,b,c,n){l.push([a,b,c,n])});google.qce=l;}).call(this);google.f={};(function(){\n",
            "document.documentElement.addEventListener(\"submit\",function(b){var a;if(a=b.target){var c=a.getAttribute(\"data-submitfalse\");a=c===\"1\"||c===\"q\"&&!a.elements.q.value?!0:!1}else a=!1;a&&(b.preventDefault(),b.stopPropagation())},!0);document.documentElement.addEventListener(\"click\",function(b){var a;a:{for(a=b.target;a&&a!==document.documentElement;a=a.parentElement)if(a.tagName===\"A\"){a=a.getAttribute(\"data-nohref\")===\"1\";break a}a=!1}a&&b.preventDefault()},!0);}).call(this);</script><style>#gbar,#guser{font-size:13px;padding-top:1px !important;}#gbar{height:22px}#guser{padding-bottom:7px !important;text-align:right}.gbh,.gbd{border-top:1px solid #c9d7f1;font-size:1px}.gbh{height:0;position:absolute;top:24px;width:100%}@media all{.gb1{height:22px;margin-right:.5em;vertical-align:top}#gbar{float:left}}a.gb1,a.gb4{text-decoration:underline !important}a.gb1,a.gb4{color:#00c !important}.gbi .gb4{color:#dd8e27 !important}.gbf .gb4{color:#900 !important}\n",
            "</style><style>body,td,a,p,.h{font-family:sans-serif}body{margin:0;overflow-y:scroll}#gog{padding:3px 8px 0}td{line-height:.8em}.gac_m td{line-height:17px}form{margin-bottom:20px}.h{color:#1967d2}em{font-weight:bold;font-style:normal}.lst{height:25px;width:496px}.gsfi,.lst{font:18px sans-serif}.gsfs{font:17px sans-serif}.ds{display:inline-box;display:inline-block;margin:3px 0 4px;margin-left:4px}input{font-family:inherit}body{background:#fff;color:#000}a{color:#681da8;text-decoration:none}a:hover,a:active{text-decoration:underline}.fl a{color:#1967d2}a:visited{color:#681da8}.sblc{padding-top:5px}.sblc a{display:block;margin:2px 0;margin-left:13px;font-size:11px}.lsbb{background:#f8f9fa;border:solid 1px;border-color:#dadce0 #70757a #70757a #dadce0;height:30px}.lsbb{display:block}#WqQANb a{display:inline-block;margin:0 12px}.lsb{background:url(/images/nav_logo229.png) 0 -261px repeat-x;color:#000;border:none;cursor:pointer;height:30px;margin:0;outline:0;font:15px sans-serif;vertical-align:top}.lsb:active{background:#dadce0}.lst:focus{outline:none}</style><script nonce=\"9gf6Gb4C_lBDWn4az6uW8g\">(function(){window.google.erd={jsr:1,bv:2241,de:true,dpf:'PKLIRU3FWVo5vFgg8kWvdRcX9jHDlskLEHmgxbOWaJQ'};\n",
            "var g=this||self;var k,l=(k=g.mei)!=null?k:1,m,p=(m=g.diel)!=null?m:0,q,r=(q=g.sdo)!=null?q:!0,t=0,u,w=google.erd,x=w.jsr;google.ml=function(a,b,d,n,e){e=e===void 0?2:e;b&&(u=a&&a.message);d===void 0&&(d={});d.cad=\"ple_\"+google.ple+\".aple_\"+google.aple;if(google.dl)return google.dl(a,e,d,!0),null;b=d;if(x<0){window.console&&console.error(a,b);if(x===-2)throw a;b=!1}else b=!a||!a.message||a.message===\"Error loading script\"||t>=l&&!n?!1:!0;if(!b)return null;t++;d=d||{};b=encodeURIComponent;var c=\"/gen_204?atyp=i&ei=\"+b(google.kEI);google.kEXPI&&(c+=\"&jexpid=\"+b(google.kEXPI));c+=\"&srcpg=\"+b(google.sn)+\"&jsr=\"+b(w.jsr)+\n",
            "\"&bver=\"+b(w.bv);w.dpf&&(c+=\"&dpf=\"+b(w.dpf));var f=a.lineNumber;f!==void 0&&(c+=\"&line=\"+f);var h=a.fileName;h&&(h.indexOf(\"-extension:/\")>0&&(e=3),c+=\"&script=\"+b(h),f&&h===window.location.href&&(f=document.documentElement.outerHTML.split(\"\\n\")[f],c+=\"&cad=\"+b(f?f.substring(0,300):\"No script found.\")));google.ple&&google.ple===1&&(e=2);c+=\"&jsel=\"+e;for(var v in d)c+=\"&\",c+=b(v),c+=\"=\",c+=b(d[v]);c=c+\"&emsg=\"+b(a.name+\": \"+a.message);c=c+\"&jsst=\"+b(a.stack||\"N/A\");c.length>=12288&&(c=c.substr(0,12288));a=c;n||google.log(0,\"\",a);return a};window.onerror=function(a,b,d,n,e){u!==a&&(a=e instanceof Error?e:Error(a),d===void 0||\"lineNumber\"in a||(a.lineNumber=d),b===void 0||\"fileName\"in a||(a.fileName=b),google.ml(a,!1,void 0,!1,a.name===\"SyntaxError\"||a.message.substring(0,11)===\"SyntaxError\"||a.message.indexOf(\"Script error\")!==-1?3:p));u=null;r&&t>=l&&(window.onerror=null)};})();</script></head><body bgcolor=\"#fff\"><script nonce=\"9gf6Gb4C_lBDWn4az6uW8g\">(function(){var src='/images/nav_logo229.png';var iesg=false;document.body.onload = function(){window.n && window.n();if (document.images){new Image().src=src;}\n",
            "if (!iesg){document.f&&document.f.q.focus();document.gbqf&&document.gbqf.q.focus();}\n",
            "}\n",
            "})();</script><div id=\"mngb\"><div id=gbar><nobr><b class=gb1>Search</b> <a class=gb1 href=\"https://www.google.com/imghp?hl=en&tab=wi\">Images</a> <a class=gb1 href=\"https://maps.google.com/maps?hl=en&tab=wl\">Maps</a> <a class=gb1 href=\"https://play.google.com/?hl=en&tab=w8\">Play</a> <a class=gb1 href=\"https://www.youtube.com/?tab=w1\">YouTube</a> <a class=gb1 href=\"https://news.google.com/?tab=wn\">News</a> <a class=gb1 href=\"https://mail.google.com/mail/?tab=wm\">Gmail</a> <a class=gb1 href=\"https://drive.google.com/?tab=wo\">Drive</a> <a class=gb1 style=\"text-decoration:none\" href=\"https://www.google.com/intl/en/about/products?tab=wh\"><u>More</u> &raquo;</a></nobr></div><div id=guser width=100%><nobr><span id=gbn class=gbi></span><span id=gbf class=gbf></span><span id=gbe></span><a href=\"http://www.google.com/history/optout?hl=en\" class=gb4>Web History</a> | <a  href=\"/preferences?hl=en\" class=gb4>Settings</a> | <a target=_top id=gb_70 href=\"https://accounts.google.com/ServiceLogin?hl=en&passive=true&continue=https://www.google.com/&ec=GAZAAQ\" class=gb4>Sign in</a></nobr></div><div class=gbh style=left:0></div><div class=gbh style=right:0></div></div><center><br clear=\"all\" id=\"lgpd\"><div id=\"XjhHGf\"><img alt=\"Google\" height=\"92\" src=\"/images/branding/googlelogo/1x/googlelogo_white_background_color_272x92dp.png\" style=\"padding:28px 0 14px\" width=\"272\" id=\"hplogo\"><br><br></div><form action=\"/search\" name=\"f\"><table cellpadding=\"0\" cellspacing=\"0\"><tr valign=\"top\"><td width=\"25%\">&nbsp;</td><td align=\"center\" nowrap=\"\"><input name=\"ie\" value=\"ISO-8859-1\" type=\"hidden\"><input value=\"en\" name=\"hl\" type=\"hidden\"><input name=\"source\" type=\"hidden\" value=\"hp\"><input name=\"biw\" type=\"hidden\"><input name=\"bih\" type=\"hidden\"><div class=\"ds\" style=\"height:32px;margin:4px 0\"><input class=\"lst\" style=\"margin:0;padding:5px 8px 0 6px;vertical-align:top;color:#000\" autocomplete=\"off\" value=\"\" title=\"Google Search\" maxlength=\"2048\" name=\"q\" size=\"57\"></div><br style=\"line-height:0\"><span class=\"ds\"><span class=\"lsbb\"><input class=\"lsb\" value=\"Google Search\" name=\"btnG\" type=\"submit\"></span></span><span class=\"ds\"><span class=\"lsbb\"><input class=\"lsb\" id=\"tsuid_sapaaKvPC7nNkPIP-ZKf8Qs_1\" value=\"I'm Feeling Lucky\" name=\"btnI\" type=\"submit\"><script nonce=\"9gf6Gb4C_lBDWn4az6uW8g\">(function(){var id='tsuid_sapaaKvPC7nNkPIP-ZKf8Qs_1';document.getElementById(id).onclick = function(){if (this.form.q.value){this.checked = 1;if (this.form.iflsig)this.form.iflsig.disabled = false;}\n",
            "else top.location='/doodles/';};})();</script><input value=\"AOw8s4IAAAAAaFq4wSgD2QNs8IC6AZV660IPxLgdQyRq\" name=\"iflsig\" type=\"hidden\"></span></span></td><td class=\"fl sblc\" align=\"left\" nowrap=\"\" width=\"25%\"><a href=\"/advanced_search?hl=en&amp;authuser=0\">Advanced search</a></td></tr></table><input id=\"gbv\" name=\"gbv\" type=\"hidden\" value=\"1\"><script nonce=\"9gf6Gb4C_lBDWn4az6uW8g\">(function(){var a,b=\"1\";if(document&&document.getElementById)if(typeof XMLHttpRequest!=\"undefined\")b=\"2\";else if(typeof ActiveXObject!=\"undefined\"){var c,d,e=[\"MSXML2.XMLHTTP.6.0\",\"MSXML2.XMLHTTP.3.0\",\"MSXML2.XMLHTTP\",\"Microsoft.XMLHTTP\"];for(c=0;d=e[c++];)try{new ActiveXObject(d),b=\"2\"}catch(h){}}a=b;if(a==\"2\"&&location.search.indexOf(\"&gbv=2\")==-1){var f=google.gbvu,g=document.getElementById(\"gbv\");g&&(g.value=a);f&&window.setTimeout(function(){location.href=f},0)};}).call(this);</script></form><div style=\"font-size:83%;min-height:3.5em\"><br></div><span id=\"footer\"><div style=\"font-size:10pt\"><div style=\"margin:19px auto;text-align:center\" id=\"WqQANb\"><a href=\"/intl/en/ads/\">Advertising</a><a href=\"/services/\">Business Solutions</a><a href=\"/intl/en/about.html\">About Google</a></div></div><p style=\"font-size:8pt;color:#636363\">&copy; 2025 - <a href=\"/intl/en/policies/privacy/\">Privacy</a> - <a href=\"/intl/en/policies/terms/\">Terms</a></p></span></center><script nonce=\"9gf6Gb4C_lBDWn4az6uW8g\">(function(){window.google.cdo={height:757,width:1440};(function(){var a=window.innerWidth,b=window.innerHeight;if(!a||!b){var c=window.document,d=c.compatMode==\"CSS1Compat\"?c.documentElement:c.body;a=d.clientWidth;b=d.clientHeight}if(a&&b&&(a!=google.cdo.width||b!=google.cdo.height)){var e=google,f=e.log,g=\"/client_204?&atyp=i&biw=\"+a+\"&bih=\"+b+\"&ei=\"+google.kEI,h=\"\",k=window.google&&window.google.kOPI||null;k&&(h+=\"&opi=\"+k);f.call(e,\"\",\"\",g+h)};}).call(this);})();(function(){google.xjs={basecomb:'/xjs/_/js/k\\x3dxjs.hp.en.6DiFpRZ4Snc.es5.O/ck\\x3dxjs.hp.Ih9HJlSonOE.L.X.O/am\\x3dAAAAAAAQAAAAAAAAAAAAAAAAAAAAAAAAAAAAACUCAQAAAIggAAAAAAACAAAAAAAAAAAAAIwAABAAAAEEAQAAlCQAxoEAAAsAUAIBkAOUHgAAEAAEAABAAIAAAACAEAAAAQAAAk4AAACAARAexwQAAAACYAFAAAAAAPEI/d\\x3d1/ed\\x3d1/dg\\x3d0/ujg\\x3d1/rs\\x3dACT90oFbGdm4FwdCdiDjUEk1d-vG-OVKdg',basecss:'/xjs/_/ss/k\\x3dxjs.hp.Ih9HJlSonOE.L.X.O/am\\x3dAAAAAAAQAAAAAAAAAAAAAAAAAAAAAAAAAAAAACUCAQAAAAggAAAAAAAAAAAAAAAAAAAAAIgAABAAAAEEAQAAlAQABgAAAAsAUAIBkAOUHgAAEAAEAABAAIAAAACAEAAAAQAAAkYAAAAAAAAAwAAAAAACIA/rs\\x3dACT90oGZmUmsdBF9zpyCJ1X0ko863sbm6g',basejs:'/xjs/_/js/k\\x3dxjs.hp.en.6DiFpRZ4Snc.es5.O/am\\x3dAAAAAAAAAAAAAAAAAAAAAAAAAAAAAAAAAAAAAAAAAAAAAIAAAAAAAAACAAAAAAAAAAAAAIQAABAAAAAAAAAAACAAwIEAAAoAAAAAgAMAAAAAAAAEAAAAAAAAAAAAAAAAAAAAAA4AAACAARAexwQAAAACYAFAAAAAAPEI/dg\\x3d0/rs\\x3dACT90oGixXmCRXOrQhKkzAIC6I7aWA8sIQ',excm:[]};})();(function(){var u='/xjs/_/js/k\\x3dxjs.hp.en.6DiFpRZ4Snc.es5.O/am\\x3dAAAAAAAAAAAAAAAAAAAAAAAAAAAAAAAAAAAAAAAAAAAAAIAAAAAAAAACAAAAAAAAAAAAAIQAABAAAAAAAAAAACAAwIEAAAoAAAAAgAMAAAAAAAAEAAAAAAAAAAAAAAAAAAAAAA4AAACAARAexwQAAAACYAFAAAAAAPEI/d\\x3d1/ed\\x3d1/dg\\x3d3/rs\\x3dACT90oGixXmCRXOrQhKkzAIC6I7aWA8sIQ/m\\x3dsb_he,d';var st=1;var amd=1000;var mmd=0;var pod=true;var pop=true;var povp=false;var fp='';\n",
            "var e=this||self;function f(){var b,a,d;if(a=b=(a=window.google)==null?void 0:(d=a.ia)==null?void 0:d.r.B2Jtyd)a=b.m,a=a===1||a===5;return a&&b.cbfd!=null&&b.cbvi!=null?b:void 0};function g(){var b=[u];if(!google.dp){for(var a=0;a<b.length;a++){var d=b[a],c=document.createElement(\"link\");c.as=\"script\";c.href=d;c.rel=\"preload\";document.body.appendChild(c)}google.dp=!0}};google.ps===void 0&&(google.ps=[]);function h(){var b=u,a=function(){};google.lx=google.stvsc?a:function(){k(b);google.lx=a};google.bx||google.lx()}function l(b,a){a&&(b.src=a);fp&&google.caft&&google.caft(function(){b.fetchPriority=fp});var d=b.onload;b.onload=function(c){d&&d(c);google.ps=google.ps.filter(function(G){return b!==G})};google.ps.push(b);document.body.appendChild(b)}google.as=l;function k(b){google.timers&&google.timers.load&&google.tick&&google.tick(\"load\",\"xjsls\");var a=document.createElement(\"script\");a.onerror=function(){google.ple=1};a.onload=function(){google.ple=0};google.xjsus=void 0;l(a,b);google.aple=-1;google.dp=!0};function m(b){var a=b.getAttribute(\"jscontroller\");return(a===\"UBXHI\"||a===\"R3fhkb\"||a===\"TSZEqd\")&&b.hasAttribute(\"data-src\")}function n(){for(var b=document.getElementsByTagName(\"img\"),a=0,d=b.length;a<d;a++){var c=b[a];if(c.hasAttribute(\"data-lzy_\")&&Number(c.getAttribute(\"data-atf\"))&1&&!m(c))return!0}return!1}for(var p=document.getElementsByTagName(\"img\"),q=0,r=p.length;q<r;++q){var t=p[q];Number(t.getAttribute(\"data-atf\"))&1&&m(t)&&(t.src=t.getAttribute(\"data-src\"))};var w,x,y,z,A,B,C,D,E,F;function H(){google.xjsu=u;e._F_jsUrl=u;A=function(){h()};w=!1;x=(st===1||st===3)&&!!google.caft&&!n();y=f();z=(st===2||st===3)&&!!y&&!n();B=pod;C=pop;D=povp;E=pop&&document.prerendering||povp&&document.hidden;F=D?\"visibilitychange\":\"prerenderingchange\"}function I(){w||x||z||E||(A(),w=!0)}\n",
            "setTimeout(function(){google&&google.tick&&google.timers&&google.timers.load&&google.tick(\"load\",\"xjspls\");H();if(x||z||E){if(x){var b=function(){x=!1;I()};google.caft(b);window.setTimeout(b,amd)}z&&(b=function(){z=!1;I()},y.cbvi.push(b),window.setTimeout(b,mmd));if(E){var a=function(){(D?document.hidden:document.prerendering)||(E=!1,I(),document.removeEventListener(F,a))};document.addEventListener(F,a,{passive:!0})}if(B||C||D)w||g()}else A()},0);})();window._ = window._ || {};window._DumpException = _._DumpException = function(e){throw e;};window._s = window._s || {};_s._DumpException = _._DumpException;window._qs = window._qs || {};_qs._DumpException = _._DumpException;(function(){var t=[0,16384,0,0,0,0,0,8994816,1,33312,536870914,34086912,0,805306368,17825801,55660544,335544535,119013530,12059224,4232192,517211024,71303168,66,2097168,276824064,134479872,81831936,536870912,119410689,19,1445920,16,585984];window._F_toggles = window._xjs_toggles = t;})();window._F_installCss = window._F_installCss || function(css){};(function(){google.jl={bfl:0,dw:false,eli:false,ine:false,ubm:false,uwp:true,vs:false};})();(function(){var pmc='{\\x22d\\x22:{},\\x22sb_he\\x22:{\\x22client\\x22:\\x22heirloom-hp\\x22,\\x22dh\\x22:true,\\x22ds\\x22:\\x22\\x22,\\x22host\\x22:\\x22google.com\\x22,\\x22jsonp\\x22:true,\\x22msgs\\x22:{\\x22cibl\\x22:\\x22Clear Search\\x22,\\x22dym\\x22:\\x22Did you mean:\\x22,\\x22lcky\\x22:\\x22I\\\\u0026#39;m Feeling Lucky\\x22,\\x22lml\\x22:\\x22Learn more\\x22,\\x22psrc\\x22:\\x22This search was removed from your \\\\u003Ca href\\x3d\\\\\\x22/history\\\\\\x22\\\\u003EWeb History\\\\u003C/a\\\\u003E\\x22,\\x22psrl\\x22:\\x22Remove\\x22,\\x22sbit\\x22:\\x22Search by image\\x22,\\x22srch\\x22:\\x22Google Search\\x22},\\x22ovr\\x22:{},\\x22pq\\x22:\\x22\\x22,\\x22rfs\\x22:[],\\x22stok\\x22:\\x22tN8EE8x7Fp_XWPv0USRVCHR_V28\\x22}}';google.pmc=JSON.parse(pmc);})();</script></body></html>\n"
          ]
        }
      ],
      "source": [
        "#text response content\n",
        "#this is useful if the response body contains text data\n",
        "\n",
        "print(response.text[0:100])\n",
        "\n",
        "#you can also try\n",
        "print(response.text)"
      ]
    },
    {
      "cell_type": "code",
      "execution_count": 10,
      "id": "0fac60c8",
      "metadata": {
        "id": "0fac60c8",
        "outputId": "6834c015-f018-4a39-bc35-e8d88c6c0fd0",
        "colab": {
          "base_uri": "https://localhost:8080/"
        }
      },
      "outputs": [
        {
          "output_type": "stream",
          "name": "stdout",
          "text": [
            "b'<!DOCTYPE html><html lang=\"en\"><head><title>Google Search</title><style>body{background-color:#fff}<'\n"
          ]
        }
      ],
      "source": [
        "#for cases where the response body contains non-text data\n",
        "# binary response content\n",
        "\n",
        "print(response.content[0:100])"
      ]
    },
    {
      "cell_type": "code",
      "execution_count": 11,
      "id": "db2e78e5",
      "metadata": {
        "id": "db2e78e5",
        "outputId": "fe30af69-4fb8-4da2-9971-6d4b9f5fb613",
        "colab": {
          "base_uri": "https://localhost:8080/",
          "height": 408
        }
      },
      "outputs": [
        {
          "output_type": "error",
          "ename": "JSONDecodeError",
          "evalue": "Expecting value: line 1 column 1 (char 0)",
          "traceback": [
            "\u001b[0;31m---------------------------------------------------------------------------\u001b[0m",
            "\u001b[0;31mJSONDecodeError\u001b[0m                           Traceback (most recent call last)",
            "\u001b[0;32m/usr/local/lib/python3.11/dist-packages/requests/models.py\u001b[0m in \u001b[0;36mjson\u001b[0;34m(self, **kwargs)\u001b[0m\n\u001b[1;32m    973\u001b[0m         \u001b[0;32mtry\u001b[0m\u001b[0;34m:\u001b[0m\u001b[0;34m\u001b[0m\u001b[0;34m\u001b[0m\u001b[0m\n\u001b[0;32m--> 974\u001b[0;31m             \u001b[0;32mreturn\u001b[0m \u001b[0mcomplexjson\u001b[0m\u001b[0;34m.\u001b[0m\u001b[0mloads\u001b[0m\u001b[0;34m(\u001b[0m\u001b[0mself\u001b[0m\u001b[0;34m.\u001b[0m\u001b[0mtext\u001b[0m\u001b[0;34m,\u001b[0m \u001b[0;34m**\u001b[0m\u001b[0mkwargs\u001b[0m\u001b[0;34m)\u001b[0m\u001b[0;34m\u001b[0m\u001b[0;34m\u001b[0m\u001b[0m\n\u001b[0m\u001b[1;32m    975\u001b[0m         \u001b[0;32mexcept\u001b[0m \u001b[0mJSONDecodeError\u001b[0m \u001b[0;32mas\u001b[0m \u001b[0me\u001b[0m\u001b[0;34m:\u001b[0m\u001b[0;34m\u001b[0m\u001b[0;34m\u001b[0m\u001b[0m\n",
            "\u001b[0;32m/usr/local/lib/python3.11/dist-packages/simplejson/__init__.py\u001b[0m in \u001b[0;36mloads\u001b[0;34m(s, encoding, cls, object_hook, parse_float, parse_int, parse_constant, object_pairs_hook, use_decimal, allow_nan, **kw)\u001b[0m\n\u001b[1;32m    513\u001b[0m             and not use_decimal and not allow_nan and not kw):\n\u001b[0;32m--> 514\u001b[0;31m         \u001b[0;32mreturn\u001b[0m \u001b[0m_default_decoder\u001b[0m\u001b[0;34m.\u001b[0m\u001b[0mdecode\u001b[0m\u001b[0;34m(\u001b[0m\u001b[0ms\u001b[0m\u001b[0;34m)\u001b[0m\u001b[0;34m\u001b[0m\u001b[0;34m\u001b[0m\u001b[0m\n\u001b[0m\u001b[1;32m    515\u001b[0m     \u001b[0;32mif\u001b[0m \u001b[0mcls\u001b[0m \u001b[0;32mis\u001b[0m \u001b[0;32mNone\u001b[0m\u001b[0;34m:\u001b[0m\u001b[0;34m\u001b[0m\u001b[0;34m\u001b[0m\u001b[0m\n",
            "\u001b[0;32m/usr/local/lib/python3.11/dist-packages/simplejson/decoder.py\u001b[0m in \u001b[0;36mdecode\u001b[0;34m(self, s, _w, _PY3)\u001b[0m\n\u001b[1;32m    385\u001b[0m             \u001b[0ms\u001b[0m \u001b[0;34m=\u001b[0m \u001b[0mstr\u001b[0m\u001b[0;34m(\u001b[0m\u001b[0ms\u001b[0m\u001b[0;34m,\u001b[0m \u001b[0mself\u001b[0m\u001b[0;34m.\u001b[0m\u001b[0mencoding\u001b[0m\u001b[0;34m)\u001b[0m\u001b[0;34m\u001b[0m\u001b[0;34m\u001b[0m\u001b[0m\n\u001b[0;32m--> 386\u001b[0;31m         \u001b[0mobj\u001b[0m\u001b[0;34m,\u001b[0m \u001b[0mend\u001b[0m \u001b[0;34m=\u001b[0m \u001b[0mself\u001b[0m\u001b[0;34m.\u001b[0m\u001b[0mraw_decode\u001b[0m\u001b[0;34m(\u001b[0m\u001b[0ms\u001b[0m\u001b[0;34m)\u001b[0m\u001b[0;34m\u001b[0m\u001b[0;34m\u001b[0m\u001b[0m\n\u001b[0m\u001b[1;32m    387\u001b[0m         \u001b[0mend\u001b[0m \u001b[0;34m=\u001b[0m \u001b[0m_w\u001b[0m\u001b[0;34m(\u001b[0m\u001b[0ms\u001b[0m\u001b[0;34m,\u001b[0m \u001b[0mend\u001b[0m\u001b[0;34m)\u001b[0m\u001b[0;34m.\u001b[0m\u001b[0mend\u001b[0m\u001b[0;34m(\u001b[0m\u001b[0;34m)\u001b[0m\u001b[0;34m\u001b[0m\u001b[0;34m\u001b[0m\u001b[0m\n",
            "\u001b[0;32m/usr/local/lib/python3.11/dist-packages/simplejson/decoder.py\u001b[0m in \u001b[0;36mraw_decode\u001b[0;34m(self, s, idx, _w, _PY3)\u001b[0m\n\u001b[1;32m    415\u001b[0m                 \u001b[0midx\u001b[0m \u001b[0;34m+=\u001b[0m \u001b[0;36m3\u001b[0m\u001b[0;34m\u001b[0m\u001b[0;34m\u001b[0m\u001b[0m\n\u001b[0;32m--> 416\u001b[0;31m         \u001b[0;32mreturn\u001b[0m \u001b[0mself\u001b[0m\u001b[0;34m.\u001b[0m\u001b[0mscan_once\u001b[0m\u001b[0;34m(\u001b[0m\u001b[0ms\u001b[0m\u001b[0;34m,\u001b[0m \u001b[0midx\u001b[0m\u001b[0;34m=\u001b[0m\u001b[0m_w\u001b[0m\u001b[0;34m(\u001b[0m\u001b[0ms\u001b[0m\u001b[0;34m,\u001b[0m \u001b[0midx\u001b[0m\u001b[0;34m)\u001b[0m\u001b[0;34m.\u001b[0m\u001b[0mend\u001b[0m\u001b[0;34m(\u001b[0m\u001b[0;34m)\u001b[0m\u001b[0;34m)\u001b[0m\u001b[0;34m\u001b[0m\u001b[0;34m\u001b[0m\u001b[0m\n\u001b[0m",
            "\u001b[0;31mJSONDecodeError\u001b[0m: Expecting value: line 1 column 1 (char 0)",
            "\nDuring handling of the above exception, another exception occurred:\n",
            "\u001b[0;31mJSONDecodeError\u001b[0m                           Traceback (most recent call last)",
            "\u001b[0;32m/tmp/ipython-input-11-3073453214.py\u001b[0m in \u001b[0;36m<cell line: 0>\u001b[0;34m()\u001b[0m\n\u001b[1;32m      1\u001b[0m \u001b[0;31m#JSON response content\u001b[0m\u001b[0;34m\u001b[0m\u001b[0;34m\u001b[0m\u001b[0m\n\u001b[1;32m      2\u001b[0m \u001b[0;34m\u001b[0m\u001b[0m\n\u001b[0;32m----> 3\u001b[0;31m \u001b[0mprint\u001b[0m\u001b[0;34m(\u001b[0m\u001b[0mresponse\u001b[0m\u001b[0;34m.\u001b[0m\u001b[0mjson\u001b[0m\u001b[0;34m(\u001b[0m\u001b[0;34m)\u001b[0m\u001b[0;34m)\u001b[0m\u001b[0;34m\u001b[0m\u001b[0;34m\u001b[0m\u001b[0m\n\u001b[0m",
            "\u001b[0;32m/usr/local/lib/python3.11/dist-packages/requests/models.py\u001b[0m in \u001b[0;36mjson\u001b[0;34m(self, **kwargs)\u001b[0m\n\u001b[1;32m    976\u001b[0m             \u001b[0;31m# Catch JSON-related errors and raise as requests.JSONDecodeError\u001b[0m\u001b[0;34m\u001b[0m\u001b[0;34m\u001b[0m\u001b[0m\n\u001b[1;32m    977\u001b[0m             \u001b[0;31m# This aliases json.JSONDecodeError and simplejson.JSONDecodeError\u001b[0m\u001b[0;34m\u001b[0m\u001b[0;34m\u001b[0m\u001b[0m\n\u001b[0;32m--> 978\u001b[0;31m             \u001b[0;32mraise\u001b[0m \u001b[0mRequestsJSONDecodeError\u001b[0m\u001b[0;34m(\u001b[0m\u001b[0me\u001b[0m\u001b[0;34m.\u001b[0m\u001b[0mmsg\u001b[0m\u001b[0;34m,\u001b[0m \u001b[0me\u001b[0m\u001b[0;34m.\u001b[0m\u001b[0mdoc\u001b[0m\u001b[0;34m,\u001b[0m \u001b[0me\u001b[0m\u001b[0;34m.\u001b[0m\u001b[0mpos\u001b[0m\u001b[0;34m)\u001b[0m\u001b[0;34m\u001b[0m\u001b[0;34m\u001b[0m\u001b[0m\n\u001b[0m\u001b[1;32m    979\u001b[0m \u001b[0;34m\u001b[0m\u001b[0m\n\u001b[1;32m    980\u001b[0m     \u001b[0;34m@\u001b[0m\u001b[0mproperty\u001b[0m\u001b[0;34m\u001b[0m\u001b[0;34m\u001b[0m\u001b[0m\n",
            "\u001b[0;31mJSONDecodeError\u001b[0m: Expecting value: line 1 column 1 (char 0)"
          ]
        }
      ],
      "source": [
        "#JSON response content\n",
        "\n",
        "print(response.json())"
      ]
    },
    {
      "cell_type": "markdown",
      "id": "97030404",
      "metadata": {
        "id": "97030404"
      },
      "source": [
        "The error lets us know that no json data found"
      ]
    },
    {
      "cell_type": "markdown",
      "id": "6db84d12",
      "metadata": {
        "id": "6db84d12"
      },
      "source": [
        "## Status code\n",
        "\n",
        "- 1xx = information\n",
        "- 2xx = success\n",
        "- 3xx = redirection\n",
        "\n",
        "    - 301: the server is redirecting you to a different endpoint. This happens when a company switches domain names or an endpoint name is changed\n",
        "    \n",
        "    \n",
        "- 4xx = client error\n",
        "\n",
        "    - 400: bad request caused by not sending the right details\n",
        "    - 401: server thinks you're not authenticated. This happens when you don't send the right credentials to access an API\n",
        "    - 403: resource you're trying to access is forbidden. You don't have the right permission to access it\n",
        "    - 404: the resource tried was not found on the server\n",
        "\n",
        "\n",
        "- 5xx = server error"
      ]
    },
    {
      "cell_type": "code",
      "execution_count": 15,
      "id": "8837bac2",
      "metadata": {
        "id": "8837bac2",
        "outputId": "34ed5f4f-180f-4eae-b322-16c830efaca4",
        "colab": {
          "base_uri": "https://localhost:8080/"
        }
      },
      "outputs": [
        {
          "output_type": "stream",
          "name": "stdout",
          "text": [
            "404\n",
            "200\n"
          ]
        }
      ],
      "source": [
        "#trying an endpoint that does not exist\n",
        "\n",
        "response = requests.get('https://google.com/abcd')\n",
        "print(response.status_code)\n",
        "\n",
        "#an ednpoint that exists\n",
        "response = requests.get('https://google.com/search')\n",
        "print(response.status_code)"
      ]
    },
    {
      "cell_type": "markdown",
      "id": "ee7f6964",
      "metadata": {
        "id": "ee7f6964"
      },
      "source": [
        "## Query parameters"
      ]
    },
    {
      "cell_type": "code",
      "execution_count": 16,
      "id": "1cbf0e9a",
      "metadata": {
        "id": "1cbf0e9a",
        "outputId": "4fd26e11-6dab-4fad-b049-5a29c18020c3",
        "colab": {
          "base_uri": "https://localhost:8080/"
        }
      },
      "outputs": [
        {
          "output_type": "stream",
          "name": "stdout",
          "text": [
            "200\n"
          ]
        }
      ],
      "source": [
        "#request without query parameter\n",
        "\n",
        "import requests\n",
        "response = requests.get('https://google.com/search')\n",
        "print(response.status_code)"
      ]
    },
    {
      "cell_type": "code",
      "execution_count": 17,
      "id": "1d3facd2",
      "metadata": {
        "id": "1d3facd2",
        "outputId": "1e94a23d-b1fd-4336-dd01-f8296862fc29",
        "colab": {
          "base_uri": "https://localhost:8080/"
        }
      },
      "outputs": [
        {
          "output_type": "stream",
          "name": "stdout",
          "text": [
            "200\n"
          ]
        }
      ],
      "source": [
        "#request with query parameter\n",
        "\n",
        "import requests\n",
        "\n",
        "parameters = {'q': 'Hannah Igboke'}\n",
        "response = requests.get('https://google.com/search', params = parameters)\n",
        "print(response.status_code)"
      ]
    },
    {
      "cell_type": "markdown",
      "id": "7b4b308b",
      "metadata": {
        "id": "7b4b308b"
      },
      "source": [
        "## Request and Response from ISS API\n",
        "\n",
        "Using OpenNotify API. It has several API endpoints. Like I mentioned earlier, you can find the other API endpoints in the documentation: http://open-notify.org/Open-Notify-API/."
      ]
    },
    {
      "cell_type": "markdown",
      "id": "faf7f7df",
      "metadata": {
        "id": "faf7f7df"
      },
      "source": [
        "**Endpoints:**\n",
        "\n",
        "1. `/iss-now.json`\n",
        "\n",
        "This api returns the current location of the ISS. It returns the current latitude and longitude of the space station with a unix timestamp for the time the location was valid. This API takes no inputs. Remember that this data is not static and changes rapidly."
      ]
    },
    {
      "cell_type": "code",
      "execution_count": 18,
      "id": "9e40abe1",
      "metadata": {
        "id": "9e40abe1",
        "outputId": "57bda719-eac1-422e-a630-dbe7718c9544",
        "colab": {
          "base_uri": "https://localhost:8080/"
        }
      },
      "outputs": [
        {
          "output_type": "stream",
          "name": "stdout",
          "text": [
            "{'Server': 'nginx/1.10.3', 'Date': 'Tue, 24 Jun 2025 14:06:02 GMT', 'Content-Type': 'application/json', 'Content-Length': '113', 'Connection': 'keep-alive', 'access-control-allow-origin': '*'}\n",
            "http://api.open-notify.org/iss-now.json\n",
            "200\n",
            "utf-8\n"
          ]
        }
      ],
      "source": [
        "#making a request to get the latest position of ISS from the opennotify api\n",
        "\n",
        "import requests\n",
        "response = requests.get('http://api.open-notify.org/iss-now.json')\n",
        "print(response.headers)\n",
        "print(response.url)\n",
        "print(response.status_code)\n",
        "print(response.encoding)"
      ]
    },
    {
      "cell_type": "code",
      "execution_count": 19,
      "id": "39ce8968",
      "metadata": {
        "id": "39ce8968",
        "outputId": "a7c85546-6500-4428-fc51-cf290d444b24",
        "colab": {
          "base_uri": "https://localhost:8080/"
        }
      },
      "outputs": [
        {
          "output_type": "stream",
          "name": "stdout",
          "text": [
            "{\"message\": \"success\", \"timestamp\": 1750773962, \"iss_position\": {\"longitude\": \"-5.0492\", \"latitude\": \"-31.5039\"}}\n"
          ]
        }
      ],
      "source": [
        "#printing text content\n",
        "\n",
        "print(response.text)"
      ]
    },
    {
      "cell_type": "code",
      "execution_count": 20,
      "id": "0968e00e",
      "metadata": {
        "id": "0968e00e",
        "outputId": "002cea3a-52e8-452c-de67-99eff9cb808c",
        "colab": {
          "base_uri": "https://localhost:8080/"
        }
      },
      "outputs": [
        {
          "output_type": "stream",
          "name": "stdout",
          "text": [
            "b'{\"message\": \"success\", \"timestamp\": 1750773962, \"iss_position\": {\"longitude\": \"-5.0492\", \"latitude\": \"-31.5039\"}}'\n"
          ]
        }
      ],
      "source": [
        "#printing binary content\n",
        "\n",
        "print(response.content)"
      ]
    },
    {
      "cell_type": "code",
      "execution_count": 21,
      "id": "273fe74c",
      "metadata": {
        "id": "273fe74c",
        "outputId": "6b5a5671-6c25-4bbd-dc8b-37a451e0cb1b",
        "colab": {
          "base_uri": "https://localhost:8080/"
        }
      },
      "outputs": [
        {
          "output_type": "stream",
          "name": "stdout",
          "text": [
            "{'message': 'success', 'timestamp': 1750773962, 'iss_position': {'longitude': '-5.0492', 'latitude': '-31.5039'}}\n"
          ]
        }
      ],
      "source": [
        "#printing json content\n",
        "\n",
        "print(response.json())"
      ]
    },
    {
      "cell_type": "markdown",
      "id": "aee27b49",
      "metadata": {
        "id": "aee27b49"
      },
      "source": [
        "2. `/astros.json`\n",
        "\n",
        "This API returns the current number of people in space."
      ]
    },
    {
      "cell_type": "code",
      "execution_count": 22,
      "id": "928634e5",
      "metadata": {
        "id": "928634e5",
        "outputId": "fbc39459-cd27-4329-d9c5-34ec4f8b295f",
        "colab": {
          "base_uri": "https://localhost:8080/"
        }
      },
      "outputs": [
        {
          "output_type": "stream",
          "name": "stdout",
          "text": [
            "{'Server': 'nginx/1.10.3', 'Date': 'Tue, 24 Jun 2025 14:06:02 GMT', 'Content-Type': 'application/json', 'Content-Length': '587', 'Connection': 'keep-alive', 'access-control-allow-origin': '*'}\n"
          ]
        }
      ],
      "source": [
        "import requests\n",
        "\n",
        "response = requests.get('http://api.open-notify.org/astros.json')\n",
        "print(response.headers)"
      ]
    },
    {
      "cell_type": "code",
      "execution_count": 23,
      "id": "f7b17580",
      "metadata": {
        "id": "f7b17580",
        "outputId": "6460eaf0-037a-4093-ca82-0196e4481a3a",
        "colab": {
          "base_uri": "https://localhost:8080/"
        }
      },
      "outputs": [
        {
          "output_type": "stream",
          "name": "stdout",
          "text": [
            "<class 'dict'>\n"
          ]
        }
      ],
      "source": [
        "data = response.json()\n",
        "\n",
        "print(type(data))\n",
        "\n",
        "#to verify that the response data is a dictionary"
      ]
    },
    {
      "cell_type": "code",
      "execution_count": 24,
      "id": "5a537359",
      "metadata": {
        "id": "5a537359",
        "outputId": "ff16d54f-406e-4f76-fe02-4630c1e6a71d",
        "colab": {
          "base_uri": "https://localhost:8080/"
        }
      },
      "outputs": [
        {
          "output_type": "execute_result",
          "data": {
            "text/plain": [
              "{'people': [{'craft': 'ISS', 'name': 'Oleg Kononenko'},\n",
              "  {'craft': 'ISS', 'name': 'Nikolai Chub'},\n",
              "  {'craft': 'ISS', 'name': 'Tracy Caldwell Dyson'},\n",
              "  {'craft': 'ISS', 'name': 'Matthew Dominick'},\n",
              "  {'craft': 'ISS', 'name': 'Michael Barratt'},\n",
              "  {'craft': 'ISS', 'name': 'Jeanette Epps'},\n",
              "  {'craft': 'ISS', 'name': 'Alexander Grebenkin'},\n",
              "  {'craft': 'ISS', 'name': 'Butch Wilmore'},\n",
              "  {'craft': 'ISS', 'name': 'Sunita Williams'},\n",
              "  {'craft': 'Tiangong', 'name': 'Li Guangsu'},\n",
              "  {'craft': 'Tiangong', 'name': 'Li Cong'},\n",
              "  {'craft': 'Tiangong', 'name': 'Ye Guangfu'}],\n",
              " 'number': 12,\n",
              " 'message': 'success'}"
            ]
          },
          "metadata": {},
          "execution_count": 24
        }
      ],
      "source": [
        "data"
      ]
    },
    {
      "cell_type": "markdown",
      "id": "21222229",
      "metadata": {
        "id": "21222229"
      },
      "source": [
        "### Finding the number and names of astronaunts"
      ]
    },
    {
      "cell_type": "code",
      "execution_count": 25,
      "id": "8ae1e9b6",
      "metadata": {
        "id": "8ae1e9b6",
        "outputId": "7b54fba5-6c86-45b3-a0a0-a4684d092a3b",
        "colab": {
          "base_uri": "https://localhost:8080/"
        }
      },
      "outputs": [
        {
          "output_type": "execute_result",
          "data": {
            "text/plain": [
              "dict_values([[{'craft': 'ISS', 'name': 'Oleg Kononenko'}, {'craft': 'ISS', 'name': 'Nikolai Chub'}, {'craft': 'ISS', 'name': 'Tracy Caldwell Dyson'}, {'craft': 'ISS', 'name': 'Matthew Dominick'}, {'craft': 'ISS', 'name': 'Michael Barratt'}, {'craft': 'ISS', 'name': 'Jeanette Epps'}, {'craft': 'ISS', 'name': 'Alexander Grebenkin'}, {'craft': 'ISS', 'name': 'Butch Wilmore'}, {'craft': 'ISS', 'name': 'Sunita Williams'}, {'craft': 'Tiangong', 'name': 'Li Guangsu'}, {'craft': 'Tiangong', 'name': 'Li Cong'}, {'craft': 'Tiangong', 'name': 'Ye Guangfu'}], 12, 'success'])"
            ]
          },
          "metadata": {},
          "execution_count": 25
        }
      ],
      "source": [
        "data.values()"
      ]
    },
    {
      "cell_type": "code",
      "execution_count": 26,
      "id": "c44f18d4",
      "metadata": {
        "id": "c44f18d4",
        "outputId": "86eaff13-564a-4f08-e42c-fe893a14d9e5",
        "colab": {
          "base_uri": "https://localhost:8080/"
        }
      },
      "outputs": [
        {
          "output_type": "stream",
          "name": "stdout",
          "text": [
            "12\n"
          ]
        }
      ],
      "source": [
        "#how many people are in space?\n",
        "\n",
        "print(data['number'])"
      ]
    },
    {
      "cell_type": "code",
      "execution_count": 27,
      "id": "4be90e90",
      "metadata": {
        "id": "4be90e90",
        "outputId": "11e57d9a-d323-4e85-b024-496ed9c2f2e7",
        "colab": {
          "base_uri": "https://localhost:8080/"
        }
      },
      "outputs": [
        {
          "output_type": "stream",
          "name": "stdout",
          "text": [
            "[{'craft': 'ISS', 'name': 'Oleg Kononenko'}, {'craft': 'ISS', 'name': 'Nikolai Chub'}, {'craft': 'ISS', 'name': 'Tracy Caldwell Dyson'}, {'craft': 'ISS', 'name': 'Matthew Dominick'}, {'craft': 'ISS', 'name': 'Michael Barratt'}, {'craft': 'ISS', 'name': 'Jeanette Epps'}, {'craft': 'ISS', 'name': 'Alexander Grebenkin'}, {'craft': 'ISS', 'name': 'Butch Wilmore'}, {'craft': 'ISS', 'name': 'Sunita Williams'}, {'craft': 'Tiangong', 'name': 'Li Guangsu'}, {'craft': 'Tiangong', 'name': 'Li Cong'}, {'craft': 'Tiangong', 'name': 'Ye Guangfu'}]\n"
          ]
        }
      ],
      "source": [
        "#who are these people\n",
        "\n",
        "print(data['people'])"
      ]
    },
    {
      "cell_type": "code",
      "execution_count": 28,
      "id": "257727fb",
      "metadata": {
        "id": "257727fb",
        "outputId": "ab1b691c-27c0-4dad-c1ad-43ccd7faec34",
        "colab": {
          "base_uri": "https://localhost:8080/"
        }
      },
      "outputs": [
        {
          "output_type": "stream",
          "name": "stdout",
          "text": [
            "Oleg Kononenko\n",
            "Nikolai Chub\n",
            "Tracy Caldwell Dyson\n",
            "Matthew Dominick\n",
            "Michael Barratt\n",
            "Jeanette Epps\n",
            "Alexander Grebenkin\n",
            "Butch Wilmore\n",
            "Sunita Williams\n",
            "Li Guangsu\n",
            "Li Cong\n",
            "Ye Guangfu\n"
          ]
        }
      ],
      "source": [
        "#returning the names of these astronaunts\n",
        "\n",
        "people_in_space = data['people']\n",
        "for ast in people_in_space:\n",
        "    print(ast['name'])"
      ]
    },
    {
      "cell_type": "markdown",
      "id": "6f6b66a1",
      "metadata": {
        "id": "6f6b66a1"
      },
      "source": [
        "## Converting the JSON data from API to dataframe\n",
        "\n",
        "Many APIs return data in JSON format. We need to convert this JSON file into a dataframe that can be easily analyzed.\n",
        "\n",
        "**Steps**:\n",
        "\n",
        "- Use the request library to make the https requests to the API endpoint and retrieve the data. The API key, if required, needs to be included in the request headers\n",
        "\n",
        "- Once you have obtained the data, you can push it in a pandas df to analyze and process it."
      ]
    },
    {
      "cell_type": "markdown",
      "id": "dc1497c5",
      "metadata": {
        "id": "dc1497c5"
      },
      "source": [
        "### Way 1"
      ]
    },
    {
      "cell_type": "code",
      "execution_count": 29,
      "id": "d28028a1",
      "metadata": {
        "id": "d28028a1",
        "outputId": "07cbacff-af46-4220-ebfe-a31b646620f3",
        "colab": {
          "base_uri": "https://localhost:8080/",
          "height": 426
        }
      },
      "outputs": [
        {
          "output_type": "execute_result",
          "data": {
            "text/plain": [
              "                                              people  number  message\n",
              "0         {'craft': 'ISS', 'name': 'Oleg Kononenko'}      12  success\n",
              "1           {'craft': 'ISS', 'name': 'Nikolai Chub'}      12  success\n",
              "2   {'craft': 'ISS', 'name': 'Tracy Caldwell Dyson'}      12  success\n",
              "3       {'craft': 'ISS', 'name': 'Matthew Dominick'}      12  success\n",
              "4        {'craft': 'ISS', 'name': 'Michael Barratt'}      12  success\n",
              "5          {'craft': 'ISS', 'name': 'Jeanette Epps'}      12  success\n",
              "6    {'craft': 'ISS', 'name': 'Alexander Grebenkin'}      12  success\n",
              "7          {'craft': 'ISS', 'name': 'Butch Wilmore'}      12  success\n",
              "8        {'craft': 'ISS', 'name': 'Sunita Williams'}      12  success\n",
              "9        {'craft': 'Tiangong', 'name': 'Li Guangsu'}      12  success\n",
              "10          {'craft': 'Tiangong', 'name': 'Li Cong'}      12  success\n",
              "11       {'craft': 'Tiangong', 'name': 'Ye Guangfu'}      12  success"
            ],
            "text/html": [
              "\n",
              "  <div id=\"df-5190bf50-0f24-4246-99a9-eee0f1f24da6\" class=\"colab-df-container\">\n",
              "    <div>\n",
              "<style scoped>\n",
              "    .dataframe tbody tr th:only-of-type {\n",
              "        vertical-align: middle;\n",
              "    }\n",
              "\n",
              "    .dataframe tbody tr th {\n",
              "        vertical-align: top;\n",
              "    }\n",
              "\n",
              "    .dataframe thead th {\n",
              "        text-align: right;\n",
              "    }\n",
              "</style>\n",
              "<table border=\"1\" class=\"dataframe\">\n",
              "  <thead>\n",
              "    <tr style=\"text-align: right;\">\n",
              "      <th></th>\n",
              "      <th>people</th>\n",
              "      <th>number</th>\n",
              "      <th>message</th>\n",
              "    </tr>\n",
              "  </thead>\n",
              "  <tbody>\n",
              "    <tr>\n",
              "      <th>0</th>\n",
              "      <td>{'craft': 'ISS', 'name': 'Oleg Kononenko'}</td>\n",
              "      <td>12</td>\n",
              "      <td>success</td>\n",
              "    </tr>\n",
              "    <tr>\n",
              "      <th>1</th>\n",
              "      <td>{'craft': 'ISS', 'name': 'Nikolai Chub'}</td>\n",
              "      <td>12</td>\n",
              "      <td>success</td>\n",
              "    </tr>\n",
              "    <tr>\n",
              "      <th>2</th>\n",
              "      <td>{'craft': 'ISS', 'name': 'Tracy Caldwell Dyson'}</td>\n",
              "      <td>12</td>\n",
              "      <td>success</td>\n",
              "    </tr>\n",
              "    <tr>\n",
              "      <th>3</th>\n",
              "      <td>{'craft': 'ISS', 'name': 'Matthew Dominick'}</td>\n",
              "      <td>12</td>\n",
              "      <td>success</td>\n",
              "    </tr>\n",
              "    <tr>\n",
              "      <th>4</th>\n",
              "      <td>{'craft': 'ISS', 'name': 'Michael Barratt'}</td>\n",
              "      <td>12</td>\n",
              "      <td>success</td>\n",
              "    </tr>\n",
              "    <tr>\n",
              "      <th>5</th>\n",
              "      <td>{'craft': 'ISS', 'name': 'Jeanette Epps'}</td>\n",
              "      <td>12</td>\n",
              "      <td>success</td>\n",
              "    </tr>\n",
              "    <tr>\n",
              "      <th>6</th>\n",
              "      <td>{'craft': 'ISS', 'name': 'Alexander Grebenkin'}</td>\n",
              "      <td>12</td>\n",
              "      <td>success</td>\n",
              "    </tr>\n",
              "    <tr>\n",
              "      <th>7</th>\n",
              "      <td>{'craft': 'ISS', 'name': 'Butch Wilmore'}</td>\n",
              "      <td>12</td>\n",
              "      <td>success</td>\n",
              "    </tr>\n",
              "    <tr>\n",
              "      <th>8</th>\n",
              "      <td>{'craft': 'ISS', 'name': 'Sunita Williams'}</td>\n",
              "      <td>12</td>\n",
              "      <td>success</td>\n",
              "    </tr>\n",
              "    <tr>\n",
              "      <th>9</th>\n",
              "      <td>{'craft': 'Tiangong', 'name': 'Li Guangsu'}</td>\n",
              "      <td>12</td>\n",
              "      <td>success</td>\n",
              "    </tr>\n",
              "    <tr>\n",
              "      <th>10</th>\n",
              "      <td>{'craft': 'Tiangong', 'name': 'Li Cong'}</td>\n",
              "      <td>12</td>\n",
              "      <td>success</td>\n",
              "    </tr>\n",
              "    <tr>\n",
              "      <th>11</th>\n",
              "      <td>{'craft': 'Tiangong', 'name': 'Ye Guangfu'}</td>\n",
              "      <td>12</td>\n",
              "      <td>success</td>\n",
              "    </tr>\n",
              "  </tbody>\n",
              "</table>\n",
              "</div>\n",
              "    <div class=\"colab-df-buttons\">\n",
              "\n",
              "  <div class=\"colab-df-container\">\n",
              "    <button class=\"colab-df-convert\" onclick=\"convertToInteractive('df-5190bf50-0f24-4246-99a9-eee0f1f24da6')\"\n",
              "            title=\"Convert this dataframe to an interactive table.\"\n",
              "            style=\"display:none;\">\n",
              "\n",
              "  <svg xmlns=\"http://www.w3.org/2000/svg\" height=\"24px\" viewBox=\"0 -960 960 960\">\n",
              "    <path d=\"M120-120v-720h720v720H120Zm60-500h600v-160H180v160Zm220 220h160v-160H400v160Zm0 220h160v-160H400v160ZM180-400h160v-160H180v160Zm440 0h160v-160H620v160ZM180-180h160v-160H180v160Zm440 0h160v-160H620v160Z\"/>\n",
              "  </svg>\n",
              "    </button>\n",
              "\n",
              "  <style>\n",
              "    .colab-df-container {\n",
              "      display:flex;\n",
              "      gap: 12px;\n",
              "    }\n",
              "\n",
              "    .colab-df-convert {\n",
              "      background-color: #E8F0FE;\n",
              "      border: none;\n",
              "      border-radius: 50%;\n",
              "      cursor: pointer;\n",
              "      display: none;\n",
              "      fill: #1967D2;\n",
              "      height: 32px;\n",
              "      padding: 0 0 0 0;\n",
              "      width: 32px;\n",
              "    }\n",
              "\n",
              "    .colab-df-convert:hover {\n",
              "      background-color: #E2EBFA;\n",
              "      box-shadow: 0px 1px 2px rgba(60, 64, 67, 0.3), 0px 1px 3px 1px rgba(60, 64, 67, 0.15);\n",
              "      fill: #174EA6;\n",
              "    }\n",
              "\n",
              "    .colab-df-buttons div {\n",
              "      margin-bottom: 4px;\n",
              "    }\n",
              "\n",
              "    [theme=dark] .colab-df-convert {\n",
              "      background-color: #3B4455;\n",
              "      fill: #D2E3FC;\n",
              "    }\n",
              "\n",
              "    [theme=dark] .colab-df-convert:hover {\n",
              "      background-color: #434B5C;\n",
              "      box-shadow: 0px 1px 3px 1px rgba(0, 0, 0, 0.15);\n",
              "      filter: drop-shadow(0px 1px 2px rgba(0, 0, 0, 0.3));\n",
              "      fill: #FFFFFF;\n",
              "    }\n",
              "  </style>\n",
              "\n",
              "    <script>\n",
              "      const buttonEl =\n",
              "        document.querySelector('#df-5190bf50-0f24-4246-99a9-eee0f1f24da6 button.colab-df-convert');\n",
              "      buttonEl.style.display =\n",
              "        google.colab.kernel.accessAllowed ? 'block' : 'none';\n",
              "\n",
              "      async function convertToInteractive(key) {\n",
              "        const element = document.querySelector('#df-5190bf50-0f24-4246-99a9-eee0f1f24da6');\n",
              "        const dataTable =\n",
              "          await google.colab.kernel.invokeFunction('convertToInteractive',\n",
              "                                                    [key], {});\n",
              "        if (!dataTable) return;\n",
              "\n",
              "        const docLinkHtml = 'Like what you see? Visit the ' +\n",
              "          '<a target=\"_blank\" href=https://colab.research.google.com/notebooks/data_table.ipynb>data table notebook</a>'\n",
              "          + ' to learn more about interactive tables.';\n",
              "        element.innerHTML = '';\n",
              "        dataTable['output_type'] = 'display_data';\n",
              "        await google.colab.output.renderOutput(dataTable, element);\n",
              "        const docLink = document.createElement('div');\n",
              "        docLink.innerHTML = docLinkHtml;\n",
              "        element.appendChild(docLink);\n",
              "      }\n",
              "    </script>\n",
              "  </div>\n",
              "\n",
              "\n",
              "    <div id=\"df-d96a8d2a-bd5a-4be7-a3a0-fbed21381c00\">\n",
              "      <button class=\"colab-df-quickchart\" onclick=\"quickchart('df-d96a8d2a-bd5a-4be7-a3a0-fbed21381c00')\"\n",
              "                title=\"Suggest charts\"\n",
              "                style=\"display:none;\">\n",
              "\n",
              "<svg xmlns=\"http://www.w3.org/2000/svg\" height=\"24px\"viewBox=\"0 0 24 24\"\n",
              "     width=\"24px\">\n",
              "    <g>\n",
              "        <path d=\"M19 3H5c-1.1 0-2 .9-2 2v14c0 1.1.9 2 2 2h14c1.1 0 2-.9 2-2V5c0-1.1-.9-2-2-2zM9 17H7v-7h2v7zm4 0h-2V7h2v10zm4 0h-2v-4h2v4z\"/>\n",
              "    </g>\n",
              "</svg>\n",
              "      </button>\n",
              "\n",
              "<style>\n",
              "  .colab-df-quickchart {\n",
              "      --bg-color: #E8F0FE;\n",
              "      --fill-color: #1967D2;\n",
              "      --hover-bg-color: #E2EBFA;\n",
              "      --hover-fill-color: #174EA6;\n",
              "      --disabled-fill-color: #AAA;\n",
              "      --disabled-bg-color: #DDD;\n",
              "  }\n",
              "\n",
              "  [theme=dark] .colab-df-quickchart {\n",
              "      --bg-color: #3B4455;\n",
              "      --fill-color: #D2E3FC;\n",
              "      --hover-bg-color: #434B5C;\n",
              "      --hover-fill-color: #FFFFFF;\n",
              "      --disabled-bg-color: #3B4455;\n",
              "      --disabled-fill-color: #666;\n",
              "  }\n",
              "\n",
              "  .colab-df-quickchart {\n",
              "    background-color: var(--bg-color);\n",
              "    border: none;\n",
              "    border-radius: 50%;\n",
              "    cursor: pointer;\n",
              "    display: none;\n",
              "    fill: var(--fill-color);\n",
              "    height: 32px;\n",
              "    padding: 0;\n",
              "    width: 32px;\n",
              "  }\n",
              "\n",
              "  .colab-df-quickchart:hover {\n",
              "    background-color: var(--hover-bg-color);\n",
              "    box-shadow: 0 1px 2px rgba(60, 64, 67, 0.3), 0 1px 3px 1px rgba(60, 64, 67, 0.15);\n",
              "    fill: var(--button-hover-fill-color);\n",
              "  }\n",
              "\n",
              "  .colab-df-quickchart-complete:disabled,\n",
              "  .colab-df-quickchart-complete:disabled:hover {\n",
              "    background-color: var(--disabled-bg-color);\n",
              "    fill: var(--disabled-fill-color);\n",
              "    box-shadow: none;\n",
              "  }\n",
              "\n",
              "  .colab-df-spinner {\n",
              "    border: 2px solid var(--fill-color);\n",
              "    border-color: transparent;\n",
              "    border-bottom-color: var(--fill-color);\n",
              "    animation:\n",
              "      spin 1s steps(1) infinite;\n",
              "  }\n",
              "\n",
              "  @keyframes spin {\n",
              "    0% {\n",
              "      border-color: transparent;\n",
              "      border-bottom-color: var(--fill-color);\n",
              "      border-left-color: var(--fill-color);\n",
              "    }\n",
              "    20% {\n",
              "      border-color: transparent;\n",
              "      border-left-color: var(--fill-color);\n",
              "      border-top-color: var(--fill-color);\n",
              "    }\n",
              "    30% {\n",
              "      border-color: transparent;\n",
              "      border-left-color: var(--fill-color);\n",
              "      border-top-color: var(--fill-color);\n",
              "      border-right-color: var(--fill-color);\n",
              "    }\n",
              "    40% {\n",
              "      border-color: transparent;\n",
              "      border-right-color: var(--fill-color);\n",
              "      border-top-color: var(--fill-color);\n",
              "    }\n",
              "    60% {\n",
              "      border-color: transparent;\n",
              "      border-right-color: var(--fill-color);\n",
              "    }\n",
              "    80% {\n",
              "      border-color: transparent;\n",
              "      border-right-color: var(--fill-color);\n",
              "      border-bottom-color: var(--fill-color);\n",
              "    }\n",
              "    90% {\n",
              "      border-color: transparent;\n",
              "      border-bottom-color: var(--fill-color);\n",
              "    }\n",
              "  }\n",
              "</style>\n",
              "\n",
              "      <script>\n",
              "        async function quickchart(key) {\n",
              "          const quickchartButtonEl =\n",
              "            document.querySelector('#' + key + ' button');\n",
              "          quickchartButtonEl.disabled = true;  // To prevent multiple clicks.\n",
              "          quickchartButtonEl.classList.add('colab-df-spinner');\n",
              "          try {\n",
              "            const charts = await google.colab.kernel.invokeFunction(\n",
              "                'suggestCharts', [key], {});\n",
              "          } catch (error) {\n",
              "            console.error('Error during call to suggestCharts:', error);\n",
              "          }\n",
              "          quickchartButtonEl.classList.remove('colab-df-spinner');\n",
              "          quickchartButtonEl.classList.add('colab-df-quickchart-complete');\n",
              "        }\n",
              "        (() => {\n",
              "          let quickchartButtonEl =\n",
              "            document.querySelector('#df-d96a8d2a-bd5a-4be7-a3a0-fbed21381c00 button');\n",
              "          quickchartButtonEl.style.display =\n",
              "            google.colab.kernel.accessAllowed ? 'block' : 'none';\n",
              "        })();\n",
              "      </script>\n",
              "    </div>\n",
              "\n",
              "  <div id=\"id_62300c92-f3bc-43f1-aa46-dab19e0d8dcd\">\n",
              "    <style>\n",
              "      .colab-df-generate {\n",
              "        background-color: #E8F0FE;\n",
              "        border: none;\n",
              "        border-radius: 50%;\n",
              "        cursor: pointer;\n",
              "        display: none;\n",
              "        fill: #1967D2;\n",
              "        height: 32px;\n",
              "        padding: 0 0 0 0;\n",
              "        width: 32px;\n",
              "      }\n",
              "\n",
              "      .colab-df-generate:hover {\n",
              "        background-color: #E2EBFA;\n",
              "        box-shadow: 0px 1px 2px rgba(60, 64, 67, 0.3), 0px 1px 3px 1px rgba(60, 64, 67, 0.15);\n",
              "        fill: #174EA6;\n",
              "      }\n",
              "\n",
              "      [theme=dark] .colab-df-generate {\n",
              "        background-color: #3B4455;\n",
              "        fill: #D2E3FC;\n",
              "      }\n",
              "\n",
              "      [theme=dark] .colab-df-generate:hover {\n",
              "        background-color: #434B5C;\n",
              "        box-shadow: 0px 1px 3px 1px rgba(0, 0, 0, 0.15);\n",
              "        filter: drop-shadow(0px 1px 2px rgba(0, 0, 0, 0.3));\n",
              "        fill: #FFFFFF;\n",
              "      }\n",
              "    </style>\n",
              "    <button class=\"colab-df-generate\" onclick=\"generateWithVariable('df')\"\n",
              "            title=\"Generate code using this dataframe.\"\n",
              "            style=\"display:none;\">\n",
              "\n",
              "  <svg xmlns=\"http://www.w3.org/2000/svg\" height=\"24px\"viewBox=\"0 0 24 24\"\n",
              "       width=\"24px\">\n",
              "    <path d=\"M7,19H8.4L18.45,9,17,7.55,7,17.6ZM5,21V16.75L18.45,3.32a2,2,0,0,1,2.83,0l1.4,1.43a1.91,1.91,0,0,1,.58,1.4,1.91,1.91,0,0,1-.58,1.4L9.25,21ZM18.45,9,17,7.55Zm-12,3A5.31,5.31,0,0,0,4.9,8.1,5.31,5.31,0,0,0,1,6.5,5.31,5.31,0,0,0,4.9,4.9,5.31,5.31,0,0,0,6.5,1,5.31,5.31,0,0,0,8.1,4.9,5.31,5.31,0,0,0,12,6.5,5.46,5.46,0,0,0,6.5,12Z\"/>\n",
              "  </svg>\n",
              "    </button>\n",
              "    <script>\n",
              "      (() => {\n",
              "      const buttonEl =\n",
              "        document.querySelector('#id_62300c92-f3bc-43f1-aa46-dab19e0d8dcd button.colab-df-generate');\n",
              "      buttonEl.style.display =\n",
              "        google.colab.kernel.accessAllowed ? 'block' : 'none';\n",
              "\n",
              "      buttonEl.onclick = () => {\n",
              "        google.colab.notebook.generateWithVariable('df');\n",
              "      }\n",
              "      })();\n",
              "    </script>\n",
              "  </div>\n",
              "\n",
              "    </div>\n",
              "  </div>\n"
            ],
            "application/vnd.google.colaboratory.intrinsic+json": {
              "type": "dataframe",
              "variable_name": "df",
              "summary": "{\n  \"name\": \"df\",\n  \"rows\": 12,\n  \"fields\": [\n    {\n      \"column\": \"people\",\n      \"properties\": {\n        \"dtype\": \"object\",\n        \"semantic_type\": \"\",\n        \"description\": \"\"\n      }\n    },\n    {\n      \"column\": \"number\",\n      \"properties\": {\n        \"dtype\": \"number\",\n        \"std\": 0,\n        \"min\": 12,\n        \"max\": 12,\n        \"num_unique_values\": 1,\n        \"samples\": [\n          12\n        ],\n        \"semantic_type\": \"\",\n        \"description\": \"\"\n      }\n    },\n    {\n      \"column\": \"message\",\n      \"properties\": {\n        \"dtype\": \"category\",\n        \"num_unique_values\": 1,\n        \"samples\": [\n          \"success\"\n        ],\n        \"semantic_type\": \"\",\n        \"description\": \"\"\n      }\n    }\n  ]\n}"
            }
          },
          "metadata": {},
          "execution_count": 29
        }
      ],
      "source": [
        "import requests\n",
        "import pandas as pd\n",
        "\n",
        "response = requests.get('http://api.open-notify.org/astros.json')\n",
        "\n",
        "data = response.json()\n",
        "\n",
        "df = pd.DataFrame(data)\n",
        "\n",
        "df"
      ]
    },
    {
      "cell_type": "code",
      "execution_count": 30,
      "id": "3ad240fa",
      "metadata": {
        "id": "3ad240fa",
        "outputId": "6cd93b68-575f-4e4d-8c4b-a7a6ccf30af5",
        "colab": {
          "base_uri": "https://localhost:8080/",
          "height": 426
        }
      },
      "outputs": [
        {
          "output_type": "execute_result",
          "data": {
            "text/plain": [
              "       craft                  name\n",
              "0        ISS        Oleg Kononenko\n",
              "1        ISS          Nikolai Chub\n",
              "2        ISS  Tracy Caldwell Dyson\n",
              "3        ISS      Matthew Dominick\n",
              "4        ISS       Michael Barratt\n",
              "5        ISS         Jeanette Epps\n",
              "6        ISS   Alexander Grebenkin\n",
              "7        ISS         Butch Wilmore\n",
              "8        ISS       Sunita Williams\n",
              "9   Tiangong            Li Guangsu\n",
              "10  Tiangong               Li Cong\n",
              "11  Tiangong            Ye Guangfu"
            ],
            "text/html": [
              "\n",
              "  <div id=\"df-7cd8d993-6e36-48d2-afea-0d6fc571da7d\" class=\"colab-df-container\">\n",
              "    <div>\n",
              "<style scoped>\n",
              "    .dataframe tbody tr th:only-of-type {\n",
              "        vertical-align: middle;\n",
              "    }\n",
              "\n",
              "    .dataframe tbody tr th {\n",
              "        vertical-align: top;\n",
              "    }\n",
              "\n",
              "    .dataframe thead th {\n",
              "        text-align: right;\n",
              "    }\n",
              "</style>\n",
              "<table border=\"1\" class=\"dataframe\">\n",
              "  <thead>\n",
              "    <tr style=\"text-align: right;\">\n",
              "      <th></th>\n",
              "      <th>craft</th>\n",
              "      <th>name</th>\n",
              "    </tr>\n",
              "  </thead>\n",
              "  <tbody>\n",
              "    <tr>\n",
              "      <th>0</th>\n",
              "      <td>ISS</td>\n",
              "      <td>Oleg Kononenko</td>\n",
              "    </tr>\n",
              "    <tr>\n",
              "      <th>1</th>\n",
              "      <td>ISS</td>\n",
              "      <td>Nikolai Chub</td>\n",
              "    </tr>\n",
              "    <tr>\n",
              "      <th>2</th>\n",
              "      <td>ISS</td>\n",
              "      <td>Tracy Caldwell Dyson</td>\n",
              "    </tr>\n",
              "    <tr>\n",
              "      <th>3</th>\n",
              "      <td>ISS</td>\n",
              "      <td>Matthew Dominick</td>\n",
              "    </tr>\n",
              "    <tr>\n",
              "      <th>4</th>\n",
              "      <td>ISS</td>\n",
              "      <td>Michael Barratt</td>\n",
              "    </tr>\n",
              "    <tr>\n",
              "      <th>5</th>\n",
              "      <td>ISS</td>\n",
              "      <td>Jeanette Epps</td>\n",
              "    </tr>\n",
              "    <tr>\n",
              "      <th>6</th>\n",
              "      <td>ISS</td>\n",
              "      <td>Alexander Grebenkin</td>\n",
              "    </tr>\n",
              "    <tr>\n",
              "      <th>7</th>\n",
              "      <td>ISS</td>\n",
              "      <td>Butch Wilmore</td>\n",
              "    </tr>\n",
              "    <tr>\n",
              "      <th>8</th>\n",
              "      <td>ISS</td>\n",
              "      <td>Sunita Williams</td>\n",
              "    </tr>\n",
              "    <tr>\n",
              "      <th>9</th>\n",
              "      <td>Tiangong</td>\n",
              "      <td>Li Guangsu</td>\n",
              "    </tr>\n",
              "    <tr>\n",
              "      <th>10</th>\n",
              "      <td>Tiangong</td>\n",
              "      <td>Li Cong</td>\n",
              "    </tr>\n",
              "    <tr>\n",
              "      <th>11</th>\n",
              "      <td>Tiangong</td>\n",
              "      <td>Ye Guangfu</td>\n",
              "    </tr>\n",
              "  </tbody>\n",
              "</table>\n",
              "</div>\n",
              "    <div class=\"colab-df-buttons\">\n",
              "\n",
              "  <div class=\"colab-df-container\">\n",
              "    <button class=\"colab-df-convert\" onclick=\"convertToInteractive('df-7cd8d993-6e36-48d2-afea-0d6fc571da7d')\"\n",
              "            title=\"Convert this dataframe to an interactive table.\"\n",
              "            style=\"display:none;\">\n",
              "\n",
              "  <svg xmlns=\"http://www.w3.org/2000/svg\" height=\"24px\" viewBox=\"0 -960 960 960\">\n",
              "    <path d=\"M120-120v-720h720v720H120Zm60-500h600v-160H180v160Zm220 220h160v-160H400v160Zm0 220h160v-160H400v160ZM180-400h160v-160H180v160Zm440 0h160v-160H620v160ZM180-180h160v-160H180v160Zm440 0h160v-160H620v160Z\"/>\n",
              "  </svg>\n",
              "    </button>\n",
              "\n",
              "  <style>\n",
              "    .colab-df-container {\n",
              "      display:flex;\n",
              "      gap: 12px;\n",
              "    }\n",
              "\n",
              "    .colab-df-convert {\n",
              "      background-color: #E8F0FE;\n",
              "      border: none;\n",
              "      border-radius: 50%;\n",
              "      cursor: pointer;\n",
              "      display: none;\n",
              "      fill: #1967D2;\n",
              "      height: 32px;\n",
              "      padding: 0 0 0 0;\n",
              "      width: 32px;\n",
              "    }\n",
              "\n",
              "    .colab-df-convert:hover {\n",
              "      background-color: #E2EBFA;\n",
              "      box-shadow: 0px 1px 2px rgba(60, 64, 67, 0.3), 0px 1px 3px 1px rgba(60, 64, 67, 0.15);\n",
              "      fill: #174EA6;\n",
              "    }\n",
              "\n",
              "    .colab-df-buttons div {\n",
              "      margin-bottom: 4px;\n",
              "    }\n",
              "\n",
              "    [theme=dark] .colab-df-convert {\n",
              "      background-color: #3B4455;\n",
              "      fill: #D2E3FC;\n",
              "    }\n",
              "\n",
              "    [theme=dark] .colab-df-convert:hover {\n",
              "      background-color: #434B5C;\n",
              "      box-shadow: 0px 1px 3px 1px rgba(0, 0, 0, 0.15);\n",
              "      filter: drop-shadow(0px 1px 2px rgba(0, 0, 0, 0.3));\n",
              "      fill: #FFFFFF;\n",
              "    }\n",
              "  </style>\n",
              "\n",
              "    <script>\n",
              "      const buttonEl =\n",
              "        document.querySelector('#df-7cd8d993-6e36-48d2-afea-0d6fc571da7d button.colab-df-convert');\n",
              "      buttonEl.style.display =\n",
              "        google.colab.kernel.accessAllowed ? 'block' : 'none';\n",
              "\n",
              "      async function convertToInteractive(key) {\n",
              "        const element = document.querySelector('#df-7cd8d993-6e36-48d2-afea-0d6fc571da7d');\n",
              "        const dataTable =\n",
              "          await google.colab.kernel.invokeFunction('convertToInteractive',\n",
              "                                                    [key], {});\n",
              "        if (!dataTable) return;\n",
              "\n",
              "        const docLinkHtml = 'Like what you see? Visit the ' +\n",
              "          '<a target=\"_blank\" href=https://colab.research.google.com/notebooks/data_table.ipynb>data table notebook</a>'\n",
              "          + ' to learn more about interactive tables.';\n",
              "        element.innerHTML = '';\n",
              "        dataTable['output_type'] = 'display_data';\n",
              "        await google.colab.output.renderOutput(dataTable, element);\n",
              "        const docLink = document.createElement('div');\n",
              "        docLink.innerHTML = docLinkHtml;\n",
              "        element.appendChild(docLink);\n",
              "      }\n",
              "    </script>\n",
              "  </div>\n",
              "\n",
              "\n",
              "    <div id=\"df-16421a3a-c6f5-4262-83e3-7fe86c963ca9\">\n",
              "      <button class=\"colab-df-quickchart\" onclick=\"quickchart('df-16421a3a-c6f5-4262-83e3-7fe86c963ca9')\"\n",
              "                title=\"Suggest charts\"\n",
              "                style=\"display:none;\">\n",
              "\n",
              "<svg xmlns=\"http://www.w3.org/2000/svg\" height=\"24px\"viewBox=\"0 0 24 24\"\n",
              "     width=\"24px\">\n",
              "    <g>\n",
              "        <path d=\"M19 3H5c-1.1 0-2 .9-2 2v14c0 1.1.9 2 2 2h14c1.1 0 2-.9 2-2V5c0-1.1-.9-2-2-2zM9 17H7v-7h2v7zm4 0h-2V7h2v10zm4 0h-2v-4h2v4z\"/>\n",
              "    </g>\n",
              "</svg>\n",
              "      </button>\n",
              "\n",
              "<style>\n",
              "  .colab-df-quickchart {\n",
              "      --bg-color: #E8F0FE;\n",
              "      --fill-color: #1967D2;\n",
              "      --hover-bg-color: #E2EBFA;\n",
              "      --hover-fill-color: #174EA6;\n",
              "      --disabled-fill-color: #AAA;\n",
              "      --disabled-bg-color: #DDD;\n",
              "  }\n",
              "\n",
              "  [theme=dark] .colab-df-quickchart {\n",
              "      --bg-color: #3B4455;\n",
              "      --fill-color: #D2E3FC;\n",
              "      --hover-bg-color: #434B5C;\n",
              "      --hover-fill-color: #FFFFFF;\n",
              "      --disabled-bg-color: #3B4455;\n",
              "      --disabled-fill-color: #666;\n",
              "  }\n",
              "\n",
              "  .colab-df-quickchart {\n",
              "    background-color: var(--bg-color);\n",
              "    border: none;\n",
              "    border-radius: 50%;\n",
              "    cursor: pointer;\n",
              "    display: none;\n",
              "    fill: var(--fill-color);\n",
              "    height: 32px;\n",
              "    padding: 0;\n",
              "    width: 32px;\n",
              "  }\n",
              "\n",
              "  .colab-df-quickchart:hover {\n",
              "    background-color: var(--hover-bg-color);\n",
              "    box-shadow: 0 1px 2px rgba(60, 64, 67, 0.3), 0 1px 3px 1px rgba(60, 64, 67, 0.15);\n",
              "    fill: var(--button-hover-fill-color);\n",
              "  }\n",
              "\n",
              "  .colab-df-quickchart-complete:disabled,\n",
              "  .colab-df-quickchart-complete:disabled:hover {\n",
              "    background-color: var(--disabled-bg-color);\n",
              "    fill: var(--disabled-fill-color);\n",
              "    box-shadow: none;\n",
              "  }\n",
              "\n",
              "  .colab-df-spinner {\n",
              "    border: 2px solid var(--fill-color);\n",
              "    border-color: transparent;\n",
              "    border-bottom-color: var(--fill-color);\n",
              "    animation:\n",
              "      spin 1s steps(1) infinite;\n",
              "  }\n",
              "\n",
              "  @keyframes spin {\n",
              "    0% {\n",
              "      border-color: transparent;\n",
              "      border-bottom-color: var(--fill-color);\n",
              "      border-left-color: var(--fill-color);\n",
              "    }\n",
              "    20% {\n",
              "      border-color: transparent;\n",
              "      border-left-color: var(--fill-color);\n",
              "      border-top-color: var(--fill-color);\n",
              "    }\n",
              "    30% {\n",
              "      border-color: transparent;\n",
              "      border-left-color: var(--fill-color);\n",
              "      border-top-color: var(--fill-color);\n",
              "      border-right-color: var(--fill-color);\n",
              "    }\n",
              "    40% {\n",
              "      border-color: transparent;\n",
              "      border-right-color: var(--fill-color);\n",
              "      border-top-color: var(--fill-color);\n",
              "    }\n",
              "    60% {\n",
              "      border-color: transparent;\n",
              "      border-right-color: var(--fill-color);\n",
              "    }\n",
              "    80% {\n",
              "      border-color: transparent;\n",
              "      border-right-color: var(--fill-color);\n",
              "      border-bottom-color: var(--fill-color);\n",
              "    }\n",
              "    90% {\n",
              "      border-color: transparent;\n",
              "      border-bottom-color: var(--fill-color);\n",
              "    }\n",
              "  }\n",
              "</style>\n",
              "\n",
              "      <script>\n",
              "        async function quickchart(key) {\n",
              "          const quickchartButtonEl =\n",
              "            document.querySelector('#' + key + ' button');\n",
              "          quickchartButtonEl.disabled = true;  // To prevent multiple clicks.\n",
              "          quickchartButtonEl.classList.add('colab-df-spinner');\n",
              "          try {\n",
              "            const charts = await google.colab.kernel.invokeFunction(\n",
              "                'suggestCharts', [key], {});\n",
              "          } catch (error) {\n",
              "            console.error('Error during call to suggestCharts:', error);\n",
              "          }\n",
              "          quickchartButtonEl.classList.remove('colab-df-spinner');\n",
              "          quickchartButtonEl.classList.add('colab-df-quickchart-complete');\n",
              "        }\n",
              "        (() => {\n",
              "          let quickchartButtonEl =\n",
              "            document.querySelector('#df-16421a3a-c6f5-4262-83e3-7fe86c963ca9 button');\n",
              "          quickchartButtonEl.style.display =\n",
              "            google.colab.kernel.accessAllowed ? 'block' : 'none';\n",
              "        })();\n",
              "      </script>\n",
              "    </div>\n",
              "\n",
              "  <div id=\"id_3c6aef48-be1b-4809-a981-2436bd22611f\">\n",
              "    <style>\n",
              "      .colab-df-generate {\n",
              "        background-color: #E8F0FE;\n",
              "        border: none;\n",
              "        border-radius: 50%;\n",
              "        cursor: pointer;\n",
              "        display: none;\n",
              "        fill: #1967D2;\n",
              "        height: 32px;\n",
              "        padding: 0 0 0 0;\n",
              "        width: 32px;\n",
              "      }\n",
              "\n",
              "      .colab-df-generate:hover {\n",
              "        background-color: #E2EBFA;\n",
              "        box-shadow: 0px 1px 2px rgba(60, 64, 67, 0.3), 0px 1px 3px 1px rgba(60, 64, 67, 0.15);\n",
              "        fill: #174EA6;\n",
              "      }\n",
              "\n",
              "      [theme=dark] .colab-df-generate {\n",
              "        background-color: #3B4455;\n",
              "        fill: #D2E3FC;\n",
              "      }\n",
              "\n",
              "      [theme=dark] .colab-df-generate:hover {\n",
              "        background-color: #434B5C;\n",
              "        box-shadow: 0px 1px 3px 1px rgba(0, 0, 0, 0.15);\n",
              "        filter: drop-shadow(0px 1px 2px rgba(0, 0, 0, 0.3));\n",
              "        fill: #FFFFFF;\n",
              "      }\n",
              "    </style>\n",
              "    <button class=\"colab-df-generate\" onclick=\"generateWithVariable('astronauts')\"\n",
              "            title=\"Generate code using this dataframe.\"\n",
              "            style=\"display:none;\">\n",
              "\n",
              "  <svg xmlns=\"http://www.w3.org/2000/svg\" height=\"24px\"viewBox=\"0 0 24 24\"\n",
              "       width=\"24px\">\n",
              "    <path d=\"M7,19H8.4L18.45,9,17,7.55,7,17.6ZM5,21V16.75L18.45,3.32a2,2,0,0,1,2.83,0l1.4,1.43a1.91,1.91,0,0,1,.58,1.4,1.91,1.91,0,0,1-.58,1.4L9.25,21ZM18.45,9,17,7.55Zm-12,3A5.31,5.31,0,0,0,4.9,8.1,5.31,5.31,0,0,0,1,6.5,5.31,5.31,0,0,0,4.9,4.9,5.31,5.31,0,0,0,6.5,1,5.31,5.31,0,0,0,8.1,4.9,5.31,5.31,0,0,0,12,6.5,5.46,5.46,0,0,0,6.5,12Z\"/>\n",
              "  </svg>\n",
              "    </button>\n",
              "    <script>\n",
              "      (() => {\n",
              "      const buttonEl =\n",
              "        document.querySelector('#id_3c6aef48-be1b-4809-a981-2436bd22611f button.colab-df-generate');\n",
              "      buttonEl.style.display =\n",
              "        google.colab.kernel.accessAllowed ? 'block' : 'none';\n",
              "\n",
              "      buttonEl.onclick = () => {\n",
              "        google.colab.notebook.generateWithVariable('astronauts');\n",
              "      }\n",
              "      })();\n",
              "    </script>\n",
              "  </div>\n",
              "\n",
              "    </div>\n",
              "  </div>\n"
            ],
            "application/vnd.google.colaboratory.intrinsic+json": {
              "type": "dataframe",
              "variable_name": "astronauts",
              "summary": "{\n  \"name\": \"astronauts\",\n  \"rows\": 12,\n  \"fields\": [\n    {\n      \"column\": \"craft\",\n      \"properties\": {\n        \"dtype\": \"category\",\n        \"num_unique_values\": 2,\n        \"samples\": [\n          \"Tiangong\",\n          \"ISS\"\n        ],\n        \"semantic_type\": \"\",\n        \"description\": \"\"\n      }\n    },\n    {\n      \"column\": \"name\",\n      \"properties\": {\n        \"dtype\": \"string\",\n        \"num_unique_values\": 12,\n        \"samples\": [\n          \"Li Cong\",\n          \"Li Guangsu\"\n        ],\n        \"semantic_type\": \"\",\n        \"description\": \"\"\n      }\n    }\n  ]\n}"
            }
          },
          "metadata": {},
          "execution_count": 30
        }
      ],
      "source": [
        "#To remove the message and number columns\n",
        "\n",
        "astronauts = pd.DataFrame(data['people'])\n",
        "astronauts"
      ]
    },
    {
      "cell_type": "markdown",
      "id": "15bd704c",
      "metadata": {
        "id": "15bd704c"
      },
      "source": [
        "### Way 2\n",
        "\n",
        "Using pd.json_normalize(). The `json_normalize` function in pandas is used to normalize semi-structures JSON data into a flat table."
      ]
    },
    {
      "cell_type": "code",
      "execution_count": 31,
      "id": "150c437e",
      "metadata": {
        "id": "150c437e",
        "outputId": "3b7ac8bd-d8d8-4e51-d7d1-cc3769c7c5c1",
        "colab": {
          "base_uri": "https://localhost:8080/",
          "height": 193
        }
      },
      "outputs": [
        {
          "output_type": "error",
          "ename": "NameError",
          "evalue": "name 'record_path' is not defined",
          "traceback": [
            "\u001b[0;31m---------------------------------------------------------------------------\u001b[0m",
            "\u001b[0;31mNameError\u001b[0m                                 Traceback (most recent call last)",
            "\u001b[0;32m/tmp/ipython-input-31-2310726124.py\u001b[0m in \u001b[0;36m<cell line: 0>\u001b[0;34m()\u001b[0m\n\u001b[1;32m      3\u001b[0m \u001b[0mdata\u001b[0m \u001b[0;34m=\u001b[0m \u001b[0mresponse\u001b[0m\u001b[0;34m.\u001b[0m\u001b[0mjson\u001b[0m\u001b[0;34m(\u001b[0m\u001b[0;34m)\u001b[0m\u001b[0;34m\u001b[0m\u001b[0;34m\u001b[0m\u001b[0m\n\u001b[1;32m      4\u001b[0m \u001b[0;34m\u001b[0m\u001b[0m\n\u001b[0;32m----> 5\u001b[0;31m \u001b[0mdf\u001b[0m \u001b[0;34m=\u001b[0m \u001b[0mpd\u001b[0m\u001b[0;34m.\u001b[0m\u001b[0mjson_normalize\u001b[0m\u001b[0;34m(\u001b[0m\u001b[0mdata\u001b[0m\u001b[0;34m,\u001b[0m \u001b[0mrecord_path\u001b[0m\u001b[0;34m)\u001b[0m\u001b[0;34m\u001b[0m\u001b[0;34m\u001b[0m\u001b[0m\n\u001b[0m\u001b[1;32m      6\u001b[0m \u001b[0mdf\u001b[0m\u001b[0;34m\u001b[0m\u001b[0;34m\u001b[0m\u001b[0m\n",
            "\u001b[0;31mNameError\u001b[0m: name 'record_path' is not defined"
          ]
        }
      ],
      "source": [
        "response = requests.get('http://api.open-notify.org/astros.json')\n",
        "\n",
        "data = response.json()\n",
        "\n",
        "df = pd.json_normalize(data, record_path)\n",
        "df"
      ]
    },
    {
      "cell_type": "code",
      "execution_count": null,
      "id": "3ba84912",
      "metadata": {
        "id": "3ba84912"
      },
      "outputs": [],
      "source": [
        "#It didn't come out as expected. We want the results to be like that of way 1\n",
        "\n",
        "response = requests.get('http://api.open-notify.org/astros.json')\n",
        "\n",
        "data = response.json()\n",
        "\n",
        "df = pd.json_normalize(data, record_path=['people'])\n",
        "df"
      ]
    },
    {
      "cell_type": "markdown",
      "id": "f4a62bc5",
      "metadata": {
        "id": "f4a62bc5"
      },
      "source": [
        "### Way 3"
      ]
    },
    {
      "cell_type": "code",
      "execution_count": null,
      "id": "83cca66d",
      "metadata": {
        "id": "83cca66d"
      },
      "outputs": [],
      "source": [
        "df = pd.read_json('http://api.open-notify.org/astros.json')\n",
        "df"
      ]
    },
    {
      "cell_type": "code",
      "execution_count": null,
      "id": "6c560549",
      "metadata": {
        "id": "6c560549"
      },
      "outputs": [],
      "source": [
        "#Again we are only intrested in the people column\n",
        "\n",
        "\n",
        "astronauts = pd.json_normalize(df['people'])\n",
        "astronauts"
      ]
    },
    {
      "cell_type": "markdown",
      "id": "56ea5f39",
      "metadata": {
        "id": "56ea5f39"
      },
      "source": [
        "## WORKING WITH JSON\n",
        "\n",
        "- Convertng python objects to json and vice versa using **dumps() and loads()**\n",
        "- Saving the data to json files and vice versa using **dump() and load()**\n",
        "\n",
        "\n",
        "### Python objects and json\n",
        "\n",
        "### dumps() and loads()\n",
        "\n",
        "We can convert lists, tuples, and dictionaries (python objects) to JSON strings and convert JSON strings to lists and dictionaries.\n",
        "\n",
        "- `json.dumps(python_object)`: converts python objects to json strings\n",
        "\n",
        "- `json.loads(json_string)`: converts json string to python object"
      ]
    },
    {
      "cell_type": "code",
      "execution_count": null,
      "id": "7ae7c0c0",
      "metadata": {
        "id": "7ae7c0c0"
      },
      "outputs": [],
      "source": [
        "#first import the json file\n",
        "\n",
        "import json\n",
        "\n",
        "char = ['Black widow', 'Hawkeye', 'Katiness', 'Iron man']\n",
        "\n",
        "print(type(char))"
      ]
    },
    {
      "cell_type": "code",
      "execution_count": null,
      "id": "d5e420a5",
      "metadata": {
        "id": "d5e420a5"
      },
      "outputs": [],
      "source": [
        "#converting python object to json string\n",
        "\n",
        "char_string = json.dumps(char)\n",
        "print(type(char_string))"
      ]
    },
    {
      "cell_type": "code",
      "execution_count": null,
      "id": "7ea31d41",
      "metadata": {
        "id": "7ea31d41"
      },
      "outputs": [],
      "source": [
        "#converting json string to python objects\n",
        "char_object = json.loads(char_string)\n",
        "\n",
        "print(type(char_object))"
      ]
    },
    {
      "cell_type": "markdown",
      "id": "8146ce1b",
      "metadata": {
        "id": "8146ce1b"
      },
      "source": [
        "This same concept applies also to dictionaries and tuples."
      ]
    },
    {
      "cell_type": "markdown",
      "id": "3e8c6f96",
      "metadata": {
        "id": "3e8c6f96"
      },
      "source": [
        "### Creating, and reading JSON files\n",
        "\n",
        "### dump() and load()\n",
        "\n",
        "The json module has two main methods for doing this\n",
        "\n",
        "- `json.dump(data, file_object)`: writes data into a json file format\n",
        "- `json.load(file_object)`: for reading a json file\n"
      ]
    },
    {
      "cell_type": "code",
      "execution_count": null,
      "id": "23d8383b",
      "metadata": {
        "id": "23d8383b"
      },
      "outputs": [],
      "source": [
        "#making a dictionary\n",
        "\n",
        "fast_food_franchise = {\n",
        "    'Subway': 24722,\n",
        "    'McDonalds': 14098,\n",
        "    'Starbucks': 10821,\n",
        "    'Pizza Hut': 34599\n",
        "}\n",
        "\n",
        "print(type(fast_food_franchise))"
      ]
    },
    {
      "cell_type": "code",
      "execution_count": null,
      "id": "a6eb5c63",
      "metadata": {
        "id": "a6eb5c63"
      },
      "outputs": [],
      "source": [
        "#writing the data in  the dictionary to a file\n",
        "\n",
        "import json\n",
        "\n",
        "file_name = 'my_fast_food.json'\n",
        "\n",
        "with open(file_name, 'w') as f:\n",
        "    json.dump(fast_food_franchise, f)\n",
        "\n",
        "f = open('my_fast_food.json', 'r')\n",
        "data = f.read()\n",
        "\n",
        "print(data)\n",
        "print(type(data))\n",
        "f.close()"
      ]
    },
    {
      "cell_type": "code",
      "execution_count": null,
      "id": "be5329d8",
      "metadata": {
        "id": "be5329d8"
      },
      "outputs": [],
      "source": [
        "#reading the data from the json file\n",
        "\n",
        "file = 'my_fast_food.json'\n",
        "\n",
        "with open(file, 'r') as f:\n",
        "    data = json.load(f)\n",
        "\n",
        "print(data)\n",
        "print(type(data))"
      ]
    },
    {
      "cell_type": "markdown",
      "id": "a1863e00",
      "metadata": {
        "id": "a1863e00"
      },
      "source": [
        "## Extracting crypto data using Coingecko API\n",
        "\n",
        "Root_url = \"https://api.coingecko.com/api/v3\"\n",
        "\n",
        "This is the link to the public API documentation.\n",
        "\n",
        "Coingecko was founded in 2014 in order to democratize the access of crypto data and empower users with actionable insights.\n",
        "\n",
        "API End points:\n",
        "\n",
        "- Ping: `/ping`\n",
        "- Coin list: `/coin/list`\n",
        "- Coin market: `/coins/markets`\n",
        "- Coin history: `/coins/{id}/history`\n",
        "- Coin market chart: `coins/{id}/market_chart`"
      ]
    },
    {
      "cell_type": "markdown",
      "id": "aacc64af",
      "metadata": {
        "id": "aacc64af"
      },
      "source": [
        "### Endpoint Ping"
      ]
    },
    {
      "cell_type": "code",
      "execution_count": null,
      "id": "049475d5",
      "metadata": {
        "id": "049475d5"
      },
      "outputs": [],
      "source": [
        "import requests\n",
        "\n",
        "root_url = \"https://api.coingecko.com/api/v3\"\n",
        "endpoint = \"/ping\"\n",
        "\n",
        "response =requests.get(root_url+endpoint)\n",
        "\n",
        "response.status_code"
      ]
    },
    {
      "cell_type": "code",
      "execution_count": null,
      "id": "35ee9202",
      "metadata": {
        "id": "35ee9202"
      },
      "outputs": [],
      "source": [
        "response.headers"
      ]
    },
    {
      "cell_type": "code",
      "execution_count": null,
      "id": "41c6f1cf",
      "metadata": {
        "id": "41c6f1cf"
      },
      "outputs": [],
      "source": [
        "print(response.headers['Content-Type'])\n",
        "\n",
        "print(response.text)"
      ]
    },
    {
      "cell_type": "markdown",
      "id": "da1ca048",
      "metadata": {
        "id": "da1ca048"
      },
      "source": [
        "### Endpoint coin list\n",
        "\n",
        "Use this to obtain all the coins id in order to make API calls"
      ]
    },
    {
      "cell_type": "code",
      "execution_count": null,
      "id": "9bdc66ab",
      "metadata": {
        "id": "9bdc66ab"
      },
      "outputs": [],
      "source": [
        "import requests\n",
        "\n",
        "endpoint = '/coins/list'\n",
        "\n",
        "response = requests.get(root_url+endpoint)\n",
        "\n",
        "response"
      ]
    },
    {
      "cell_type": "code",
      "execution_count": null,
      "id": "ed1d9a21",
      "metadata": {
        "id": "ed1d9a21"
      },
      "outputs": [],
      "source": [
        "#to retrieve the coins list\n",
        "\n",
        "response.json()[:5]"
      ]
    },
    {
      "cell_type": "code",
      "execution_count": null,
      "id": "fcb3e9e8",
      "metadata": {
        "id": "fcb3e9e8"
      },
      "outputs": [],
      "source": [
        "#converting to a dataframe\n",
        "\n",
        "import pandas as pd\n",
        "\n",
        "data = response.json()\n",
        "\n",
        "df = pd.DataFrame(data) #You can also use df = pd.read_json(root_url+endpoint)\n",
        "df.head()"
      ]
    },
    {
      "cell_type": "code",
      "execution_count": null,
      "id": "f3287ae7",
      "metadata": {
        "id": "f3287ae7"
      },
      "outputs": [],
      "source": [
        "df.shape"
      ]
    },
    {
      "cell_type": "code",
      "execution_count": null,
      "id": "dd62d06d",
      "metadata": {
        "id": "dd62d06d"
      },
      "outputs": [],
      "source": [
        "#to retrieve data for btc, eth and doge coins\n",
        "\n",
        "df.loc[(df.symbol=='btc') | (df.symbol=='eth') | (df.symbol=='doge')]"
      ]
    },
    {
      "cell_type": "markdown",
      "id": "a6a92ddb",
      "metadata": {
        "id": "a6a92ddb"
      },
      "source": [
        "### Endpoint coin markets\n",
        "\n",
        "Use this to obtain all the coins market data (price, market cap, volume)"
      ]
    },
    {
      "cell_type": "code",
      "execution_count": null,
      "id": "8a223dbf",
      "metadata": {
        "id": "8a223dbf"
      },
      "outputs": [],
      "source": [
        "import requests\n",
        "\n",
        "endpoint = '/coins/markets'\n",
        "\n",
        "parameters = {'vs_currency': 'usd', 'ids':'bitcoin, dogecoin, ethereum'}\n",
        "\n",
        "response = requests.get(root_url+endpoint, params=parameters)\n",
        "response"
      ]
    },
    {
      "cell_type": "code",
      "execution_count": null,
      "id": "6521c7c1",
      "metadata": {
        "id": "6521c7c1"
      },
      "outputs": [],
      "source": [
        "response.json()"
      ]
    },
    {
      "cell_type": "code",
      "execution_count": null,
      "id": "01f15d41",
      "metadata": {
        "id": "01f15d41"
      },
      "outputs": [],
      "source": [
        "#converting to a dataframe\n",
        "\n",
        "df = pd.json_normalize(response.json())\n",
        "df.head()"
      ]
    },
    {
      "cell_type": "markdown",
      "id": "81ba023d",
      "metadata": {
        "id": "81ba023d"
      },
      "source": [
        "### Endpoint coins history\n",
        "\n",
        "Get historical data (name, price, market, stats) at a given date for a coin"
      ]
    },
    {
      "cell_type": "code",
      "execution_count": null,
      "id": "2e88786b",
      "metadata": {
        "id": "2e88786b"
      },
      "outputs": [],
      "source": [
        "#retrieve today's date\n",
        "from datetime import date\n",
        "\n",
        "today = date.today().strftime('%d-%m-%Y')\n",
        "\n",
        "print('Today: ', today)"
      ]
    },
    {
      "cell_type": "code",
      "execution_count": null,
      "id": "7aa8993d",
      "metadata": {
        "id": "7aa8993d"
      },
      "outputs": [],
      "source": [
        "import requests\n",
        "\n",
        "uid = 'bitcoin'\n",
        "\n",
        "root_url = 'https://api.coingecko.com/api/v3'\n",
        "endpoint = f'/coins/{uid}/history' #don't forget the 'f' string, it is crucial for the {uid} value to be collected\n",
        "parameter = {'date': today}\n",
        "\n",
        "response = requests.get(root_url+endpoint, params = parameter)\n",
        "\n",
        "response"
      ]
    },
    {
      "cell_type": "code",
      "execution_count": null,
      "id": "f54af4eb",
      "metadata": {
        "id": "f54af4eb"
      },
      "outputs": [],
      "source": [
        "data = response.json()\n",
        "data"
      ]
    },
    {
      "cell_type": "code",
      "execution_count": null,
      "id": "d9e47806",
      "metadata": {
        "id": "d9e47806"
      },
      "outputs": [],
      "source": [
        "#storing the data in a dataframe\n",
        "\n",
        "url = f'https://api.coingecko.com/api/v3/coins/bitcoin/history?date={today}'\n",
        "\n",
        "df = pd.read_json(url)\n",
        "df.head()"
      ]
    },
    {
      "cell_type": "markdown",
      "id": "8bbd14e9",
      "metadata": {
        "id": "8bbd14e9"
      },
      "source": [
        "**The output is not as expected wheen we compare this dataframe with the dictioanry form output in the code block above. Let's fix this.**"
      ]
    },
    {
      "cell_type": "code",
      "execution_count": null,
      "id": "2bb439ba",
      "metadata": {
        "id": "2bb439ba"
      },
      "outputs": [],
      "source": [
        "#saving the data in a json file\n",
        "file_name = f'bitcoin_history_{today}.json'\n",
        "\n",
        "with open(file_name, 'w') as f:\n",
        "    json.dump(data, f)\n"
      ]
    },
    {
      "cell_type": "code",
      "execution_count": null,
      "id": "62d781fc",
      "metadata": {
        "id": "62d781fc"
      },
      "outputs": [],
      "source": [
        "#lets have a look at the the keys of our data\n",
        "\n",
        "data.keys()"
      ]
    },
    {
      "cell_type": "code",
      "execution_count": null,
      "id": "21756257",
      "metadata": {
        "id": "21756257"
      },
      "outputs": [],
      "source": [
        "#retrieving market data\n",
        "\n",
        "market_data = data['market_data']\n",
        "print(market_data)"
      ]
    },
    {
      "cell_type": "code",
      "execution_count": null,
      "id": "66ac22d6",
      "metadata": {
        "id": "66ac22d6"
      },
      "outputs": [],
      "source": [
        "df = pd.DataFrame(market_data)\n",
        "df.head()"
      ]
    },
    {
      "cell_type": "code",
      "execution_count": null,
      "id": "ab0a1a1f",
      "metadata": {
        "id": "ab0a1a1f"
      },
      "outputs": [],
      "source": [
        "df.shape"
      ]
    },
    {
      "cell_type": "code",
      "execution_count": null,
      "id": "6da2e7c2",
      "metadata": {
        "id": "6da2e7c2"
      },
      "outputs": [],
      "source": [
        "#to change the indexing of the data\n",
        "\n",
        "df = df.reset_index()\n",
        "df.head()"
      ]
    },
    {
      "cell_type": "code",
      "execution_count": null,
      "id": "79b69183",
      "metadata": {
        "id": "79b69183"
      },
      "outputs": [],
      "source": [
        "#renaming the index column\n",
        "df = df.rename(columns={'index': 'symbol'})\n",
        "df.head()"
      ]
    },
    {
      "cell_type": "markdown",
      "id": "089c0f29",
      "metadata": {
        "id": "089c0f29"
      },
      "source": [
        "### Endpoint `coins/{id}/market_chart`\n",
        "\n",
        "Gets historical market data including price, market cap, and 24hour volume(granularity auto)\n",
        "\n",
        "- Data granularity is automatic (and cannot be adjusted)\n",
        "- 1 day from current time = 5 minute interval data\n",
        "- 1-90 days from current time = hourly data\n",
        "- Above 90 days from current time = dail data (00:00 UTC)"
      ]
    },
    {
      "cell_type": "code",
      "execution_count": null,
      "id": "b65664b9",
      "metadata": {
        "id": "b65664b9"
      },
      "outputs": [],
      "source": [
        "import requests\n",
        "\n",
        "uid = 'bitcoin'\n",
        "\n",
        "root_url = 'https://api.coingecko.com/api/v3'\n",
        "endpoint = f'/coins/{uid}/market_chart'\n",
        "parameters = {'vs_currency': 'usd', 'days': '1'}\n",
        "\n",
        "response = requests.get(root_url+endpoint, params =parameters)\n",
        "response.status_code"
      ]
    },
    {
      "cell_type": "code",
      "execution_count": null,
      "id": "4f48aa3f",
      "metadata": {
        "id": "4f48aa3f"
      },
      "outputs": [],
      "source": [
        "response.json()"
      ]
    },
    {
      "cell_type": "code",
      "execution_count": null,
      "id": "62ce5d14",
      "metadata": {
        "id": "62ce5d14"
      },
      "outputs": [],
      "source": [
        "data = response.json()\n",
        "data.keys()"
      ]
    },
    {
      "cell_type": "code",
      "execution_count": null,
      "id": "755c2cc4",
      "metadata": {
        "id": "755c2cc4"
      },
      "outputs": [],
      "source": [
        "#retrieves the first 5 prices from the data\n",
        "data['prices'][:5]"
      ]
    },
    {
      "cell_type": "code",
      "execution_count": null,
      "id": "3f588285",
      "metadata": {
        "id": "3f588285"
      },
      "outputs": [],
      "source": [
        "#retrieves the first 5 market caps\n",
        "data['market_caps'][:5]"
      ]
    },
    {
      "cell_type": "code",
      "execution_count": null,
      "id": "d463e79b",
      "metadata": {
        "id": "d463e79b"
      },
      "outputs": [],
      "source": [
        "#creating a dataframe\n",
        "\n",
        "df = pd.DataFrame(data)\n",
        "df.head()"
      ]
    },
    {
      "cell_type": "code",
      "execution_count": null,
      "id": "9ca01c66",
      "metadata": {
        "id": "9ca01c66"
      },
      "outputs": [],
      "source": [
        "#notice that for each of the columns we have a timestamp attached in each list\n",
        "#we need to extract this\n",
        "\n",
        "#to see what it looks like\n",
        "df['prices'].str[0]"
      ]
    },
    {
      "cell_type": "code",
      "execution_count": null,
      "id": "cb652aa8",
      "metadata": {
        "id": "cb652aa8"
      },
      "outputs": [],
      "source": [
        "#adding a timestamp column\n",
        "#str[0] extracts the first character from each price string in the prices column\n",
        "\n",
        "df['timestamp'] = df['prices'].str[0]\n",
        "df.head()"
      ]
    },
    {
      "cell_type": "code",
      "execution_count": null,
      "id": "2cfa1b4e",
      "metadata": {
        "id": "2cfa1b4e"
      },
      "outputs": [],
      "source": [
        "#lets further simplify the table\n",
        "\n",
        "df['prices'] = df['prices'].str[1]\n",
        "df['market_caps'] = df['market_caps'].str[1]\n",
        "df['total_volumes'] = df['total_volumes'].str[1]\n",
        "\n",
        "df.head()"
      ]
    },
    {
      "cell_type": "code",
      "execution_count": null,
      "id": "13bed2b5",
      "metadata": {
        "id": "13bed2b5"
      },
      "outputs": [],
      "source": [
        "#Rearranging the dataframe\n",
        "\n",
        "df = df[['timestamp', 'prices', 'market_caps', 'total_volumes']]\n",
        "df"
      ]
    },
    {
      "cell_type": "code",
      "execution_count": null,
      "id": "a221b2b4",
      "metadata": {
        "id": "a221b2b4"
      },
      "outputs": [],
      "source": [
        "#to obtain more information on the the dataframe\n",
        "\n",
        "df.describe()"
      ]
    },
    {
      "cell_type": "code",
      "execution_count": null,
      "id": "b743e91d",
      "metadata": {
        "id": "b743e91d"
      },
      "outputs": [],
      "source": [
        "df.info()"
      ]
    },
    {
      "cell_type": "code",
      "execution_count": null,
      "id": "79095316",
      "metadata": {
        "id": "79095316"
      },
      "outputs": [],
      "source": [
        "#the timestamp column is in integer instead of datetime data type\n",
        "pd.to_datetime(df['timestamp'])"
      ]
    },
    {
      "cell_type": "code",
      "execution_count": null,
      "id": "b3ec6828",
      "metadata": {
        "id": "b3ec6828"
      },
      "outputs": [],
      "source": [
        "#we can see that the unit for the output is in nano seconds\n",
        "#converting to microseconds\n",
        "\n",
        "pd.to_datetime(df['timestamp'], unit = 'ms')"
      ]
    },
    {
      "cell_type": "code",
      "execution_count": null,
      "id": "e17499a8",
      "metadata": {
        "id": "e17499a8"
      },
      "outputs": [],
      "source": [
        "#this is good to go, lets replace the timestamp column\n",
        "\n",
        "df['timestamp'] = pd.to_datetime(df['timestamp'], unit = 'ms')\n",
        "df.info()"
      ]
    },
    {
      "cell_type": "code",
      "execution_count": null,
      "id": "cd0ce73a",
      "metadata": {
        "id": "cd0ce73a"
      },
      "outputs": [],
      "source": [
        "df.head()"
      ]
    },
    {
      "cell_type": "code",
      "execution_count": null,
      "id": "f51b4f99",
      "metadata": {
        "id": "f51b4f99"
      },
      "outputs": [],
      "source": [
        "df.describe()"
      ]
    },
    {
      "cell_type": "markdown",
      "id": "e9a73cfd",
      "metadata": {
        "id": "e9a73cfd"
      },
      "source": []
    }
  ],
  "metadata": {
    "kernelspec": {
      "display_name": "Python 3 (ipykernel)",
      "language": "python",
      "name": "python3"
    },
    "language_info": {
      "codemirror_mode": {
        "name": "ipython",
        "version": 3
      },
      "file_extension": ".py",
      "mimetype": "text/x-python",
      "name": "python",
      "nbconvert_exporter": "python",
      "pygments_lexer": "ipython3",
      "version": "3.12.7"
    },
    "colab": {
      "provenance": [],
      "include_colab_link": true
    }
  },
  "nbformat": 4,
  "nbformat_minor": 5
}